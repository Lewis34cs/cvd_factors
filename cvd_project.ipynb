{
 "cells": [
  {
   "cell_type": "markdown",
   "metadata": {},
   "source": [
    "# Identifying Protective and Risk Factors of Cardiovascular Disease "
   ]
  },
  {
   "cell_type": "markdown",
   "metadata": {},
   "source": [
    "# Introduction\n"
   ]
  },
  {
   "cell_type": "markdown",
   "metadata": {},
   "source": [
    "### Goals:\n",
    "\n",
    "Cardiovascular diseases (CVDs) are the leading cause of death worldwide, claiming around 17 million lives per year. Our goals for this project will be producing the best model(s) that identify and define both the protective and risk factors when it comes to predicting the prevalence of a CVD. Through the knowledge of these factors, we would be able to target the best primary prevention methods and help deter possible development of some CVDs. Our ultimate goal is to be able to differentiate the most impactful features when classifying those with and without a CVD(s). "
   ]
  },
  {
   "cell_type": "markdown",
   "metadata": {},
   "source": [
    "**Column Information:**"
   ]
  },
  {
   "cell_type": "markdown",
   "metadata": {},
   "source": [
    "**Objective** Features:\n",
    "(Factual Information)\n",
    "- Age | Objective Feature | **age** | int (days) |\n",
    "- Height | Objective Feature | **height** | int (cm) |\n",
    "- Weight | Objective Feature | **weight** | float (kg) |\n",
    "- Gender | Objective Feature | **gender** | categorical code |\n",
    "\n",
    "**Examination** Features:\n",
    "(Results of Medical Examination)\n",
    "- Systolic blood pressure | Examination Feature | **ap_hi** --> changed to **systolic** | int |\n",
    "- Diastolic blood pressure | Examination Feature | **ap_lo** --> changed to **diastolic** | int |\n",
    "- Cholesterol | Examination Feature | **cholesterol** | 1: normal, 2: above normal, 3: well above normal |\n",
    "- Glucose | Examination Feature | **gluc** | 1: normal, 2: above normal, 3: well above normal |\n",
    "\n",
    "**Subjective** Features:\n",
    "(Information given by the Patient)\n",
    "- Smoking | Subjective Feature | **smoke** | binary |\n",
    "- Alcohol intake | Subjective Feature | **alco** | binary |\n",
    "- Physical activity | Subjective Feature | **active** | binary |\n",
    "\n",
    "**Target**:\n",
    "\n",
    "- Presence or absence of cardiovascular disease | Target Variable | **cardio** --> changed to **cvd** | binary |\n"
   ]
  },
  {
   "cell_type": "markdown",
   "metadata": {},
   "source": [
    "# Obtain"
   ]
  },
  {
   "cell_type": "code",
   "execution_count": 30,
   "metadata": {},
   "outputs": [],
   "source": [
    "import pandas as pd\n",
    "import seaborn as sns\n",
    "import numpy as np\n",
    "import matplotlib.pyplot as plt\n",
    "import scipy.stats as stats\n",
    "import sklearn\n",
    "from sklearn import svm\n",
    "from sklearn.naive_bayes import GaussianNB\n",
    "from sklearn.dummy import DummyClassifier\n",
    "from sklearn.model_selection import train_test_split, GridSearchCV\n",
    "from sklearn.model_selection import RandomizedSearchCV\n",
    "from sklearn.pipeline import Pipeline\n",
    "from sklearn.preprocessing import StandardScaler, OneHotEncoder, FunctionTransformer\n",
    "from sklearn import set_config\n",
    "from sklearn.compose import ColumnTransformer\n",
    "from sklearn.impute import SimpleImputer\n",
    "from sklearn.metrics import classification_report as cls_report\n",
    "from sklearn.tree import DecisionTreeClassifier\n",
    "from sklearn.ensemble import RandomForestClassifier\n",
    "from sklearn.neighbors import KNeighborsClassifier\n",
    "from sklearn.model_selection import cross_val_predict\n",
    "from sklearn.metrics import precision_recall_curve, plot_confusion_matrix, plot_roc_curve\n",
    "import xgboost as xgb\n",
    "import time\n",
    "#import shap\n",
    "import pickle\n",
    "import warnings\n",
    "warnings.filterwarnings(\"ignore\")\n",
    "\n",
    "plt.style.use('ggplot')"
   ]
  },
  {
   "cell_type": "code",
   "execution_count": 31,
   "metadata": {},
   "outputs": [],
   "source": [
    "df_raw = pd.read_csv('cvd.csv', sep=';', index_col='id')"
   ]
  },
  {
   "cell_type": "markdown",
   "metadata": {},
   "source": [
    "# Exploring & Scrubbing"
   ]
  },
  {
   "cell_type": "code",
   "execution_count": 32,
   "metadata": {
    "scrolled": false
   },
   "outputs": [
    {
     "data": {
      "text/html": [
       "<div>\n",
       "<style scoped>\n",
       "    .dataframe tbody tr th:only-of-type {\n",
       "        vertical-align: middle;\n",
       "    }\n",
       "\n",
       "    .dataframe tbody tr th {\n",
       "        vertical-align: top;\n",
       "    }\n",
       "\n",
       "    .dataframe thead th {\n",
       "        text-align: right;\n",
       "    }\n",
       "</style>\n",
       "<table border=\"1\" class=\"dataframe\">\n",
       "  <thead>\n",
       "    <tr style=\"text-align: right;\">\n",
       "      <th></th>\n",
       "      <th>age</th>\n",
       "      <th>gender</th>\n",
       "      <th>height</th>\n",
       "      <th>weight</th>\n",
       "      <th>ap_hi</th>\n",
       "      <th>ap_lo</th>\n",
       "      <th>cholesterol</th>\n",
       "      <th>gluc</th>\n",
       "      <th>smoke</th>\n",
       "      <th>alco</th>\n",
       "      <th>active</th>\n",
       "      <th>cardio</th>\n",
       "    </tr>\n",
       "    <tr>\n",
       "      <th>id</th>\n",
       "      <th></th>\n",
       "      <th></th>\n",
       "      <th></th>\n",
       "      <th></th>\n",
       "      <th></th>\n",
       "      <th></th>\n",
       "      <th></th>\n",
       "      <th></th>\n",
       "      <th></th>\n",
       "      <th></th>\n",
       "      <th></th>\n",
       "      <th></th>\n",
       "    </tr>\n",
       "  </thead>\n",
       "  <tbody>\n",
       "    <tr>\n",
       "      <th>0</th>\n",
       "      <td>18393</td>\n",
       "      <td>2</td>\n",
       "      <td>168</td>\n",
       "      <td>62.0</td>\n",
       "      <td>110</td>\n",
       "      <td>80</td>\n",
       "      <td>1</td>\n",
       "      <td>1</td>\n",
       "      <td>0</td>\n",
       "      <td>0</td>\n",
       "      <td>1</td>\n",
       "      <td>0</td>\n",
       "    </tr>\n",
       "    <tr>\n",
       "      <th>1</th>\n",
       "      <td>20228</td>\n",
       "      <td>1</td>\n",
       "      <td>156</td>\n",
       "      <td>85.0</td>\n",
       "      <td>140</td>\n",
       "      <td>90</td>\n",
       "      <td>3</td>\n",
       "      <td>1</td>\n",
       "      <td>0</td>\n",
       "      <td>0</td>\n",
       "      <td>1</td>\n",
       "      <td>1</td>\n",
       "    </tr>\n",
       "    <tr>\n",
       "      <th>2</th>\n",
       "      <td>18857</td>\n",
       "      <td>1</td>\n",
       "      <td>165</td>\n",
       "      <td>64.0</td>\n",
       "      <td>130</td>\n",
       "      <td>70</td>\n",
       "      <td>3</td>\n",
       "      <td>1</td>\n",
       "      <td>0</td>\n",
       "      <td>0</td>\n",
       "      <td>0</td>\n",
       "      <td>1</td>\n",
       "    </tr>\n",
       "  </tbody>\n",
       "</table>\n",
       "</div>"
      ],
      "text/plain": [
       "      age  gender  height  weight  ap_hi  ap_lo  cholesterol  gluc  smoke  \\\n",
       "id                                                                          \n",
       "0   18393       2     168    62.0    110     80            1     1      0   \n",
       "1   20228       1     156    85.0    140     90            3     1      0   \n",
       "2   18857       1     165    64.0    130     70            3     1      0   \n",
       "\n",
       "    alco  active  cardio  \n",
       "id                        \n",
       "0      0       1       0  \n",
       "1      0       1       1  \n",
       "2      0       0       1  "
      ]
     },
     "execution_count": 32,
     "metadata": {},
     "output_type": "execute_result"
    }
   ],
   "source": [
    "df_raw.head(3)"
   ]
  },
  {
   "cell_type": "code",
   "execution_count": 33,
   "metadata": {
    "scrolled": true
   },
   "outputs": [
    {
     "name": "stdout",
     "output_type": "stream",
     "text": [
      "<class 'pandas.core.frame.DataFrame'>\n",
      "Int64Index: 70000 entries, 0 to 99999\n",
      "Data columns (total 12 columns):\n",
      " #   Column       Non-Null Count  Dtype  \n",
      "---  ------       --------------  -----  \n",
      " 0   age          70000 non-null  int64  \n",
      " 1   gender       70000 non-null  int64  \n",
      " 2   height       70000 non-null  int64  \n",
      " 3   weight       70000 non-null  float64\n",
      " 4   ap_hi        70000 non-null  int64  \n",
      " 5   ap_lo        70000 non-null  int64  \n",
      " 6   cholesterol  70000 non-null  int64  \n",
      " 7   gluc         70000 non-null  int64  \n",
      " 8   smoke        70000 non-null  int64  \n",
      " 9   alco         70000 non-null  int64  \n",
      " 10  active       70000 non-null  int64  \n",
      " 11  cardio       70000 non-null  int64  \n",
      "dtypes: float64(1), int64(11)\n",
      "memory usage: 6.9 MB\n"
     ]
    }
   ],
   "source": [
    "df_raw.info()"
   ]
  },
  {
   "cell_type": "markdown",
   "metadata": {},
   "source": [
    "We have all numerical columns in this dataset. The categorical columns contain both binary and ordinal values."
   ]
  },
  {
   "cell_type": "markdown",
   "metadata": {},
   "source": [
    "Numerical Columns:\n",
    "- age\n",
    "- height\n",
    "- weight\n",
    "- ap_hi\n",
    "- ap_lo\n",
    "\n",
    "Categorical Columns (Binary):\n",
    "- gender\n",
    "- smoke\n",
    "- alco\n",
    "- active\n",
    "- cardio\n",
    "\n",
    "Categorical Columns (Ordinal):\n",
    "- gluc\n",
    "- cholesterol"
   ]
  },
  {
   "cell_type": "code",
   "execution_count": 34,
   "metadata": {},
   "outputs": [
    {
     "name": "stdout",
     "output_type": "stream",
     "text": [
      "age: 8076\n",
      "gender: 2\n",
      "height: 109\n",
      "weight: 287\n",
      "ap_hi: 153\n",
      "ap_lo: 157\n",
      "cholesterol: 3\n",
      "gluc: 3\n",
      "smoke: 2\n",
      "alco: 2\n",
      "active: 2\n",
      "cardio: 2\n"
     ]
    }
   ],
   "source": [
    "for col in df_raw.columns:\n",
    "    print(f\"{col}: {df_raw[col].nunique()}\")"
   ]
  },
  {
   "cell_type": "markdown",
   "metadata": {},
   "source": [
    "#### Renaming columns\n",
    "We will be renaming some of the columns for better interpretability of what each column contains. "
   ]
  },
  {
   "cell_type": "code",
   "execution_count": 35,
   "metadata": {},
   "outputs": [],
   "source": [
    "#Renaming cols ap_hi, ap_lo, and cardio to systolic, diastolic, and cvd respectively\n",
    "df_raw = df_raw.rename(columns={'ap_hi' : 'systolic', 'ap_lo': 'diastolic',\n",
    "                                'cardio': 'cvd'})"
   ]
  },
  {
   "cell_type": "code",
   "execution_count": 36,
   "metadata": {},
   "outputs": [
    {
     "data": {
      "text/html": [
       "<div>\n",
       "<style scoped>\n",
       "    .dataframe tbody tr th:only-of-type {\n",
       "        vertical-align: middle;\n",
       "    }\n",
       "\n",
       "    .dataframe tbody tr th {\n",
       "        vertical-align: top;\n",
       "    }\n",
       "\n",
       "    .dataframe thead th {\n",
       "        text-align: right;\n",
       "    }\n",
       "</style>\n",
       "<table border=\"1\" class=\"dataframe\">\n",
       "  <thead>\n",
       "    <tr style=\"text-align: right;\">\n",
       "      <th></th>\n",
       "      <th>age</th>\n",
       "      <th>gender</th>\n",
       "      <th>height</th>\n",
       "      <th>weight</th>\n",
       "      <th>systolic</th>\n",
       "      <th>diastolic</th>\n",
       "      <th>cholesterol</th>\n",
       "      <th>gluc</th>\n",
       "      <th>smoke</th>\n",
       "      <th>alco</th>\n",
       "      <th>active</th>\n",
       "      <th>cvd</th>\n",
       "    </tr>\n",
       "    <tr>\n",
       "      <th>id</th>\n",
       "      <th></th>\n",
       "      <th></th>\n",
       "      <th></th>\n",
       "      <th></th>\n",
       "      <th></th>\n",
       "      <th></th>\n",
       "      <th></th>\n",
       "      <th></th>\n",
       "      <th></th>\n",
       "      <th></th>\n",
       "      <th></th>\n",
       "      <th></th>\n",
       "    </tr>\n",
       "  </thead>\n",
       "  <tbody>\n",
       "    <tr>\n",
       "      <th>0</th>\n",
       "      <td>18393</td>\n",
       "      <td>2</td>\n",
       "      <td>168</td>\n",
       "      <td>62.0</td>\n",
       "      <td>110</td>\n",
       "      <td>80</td>\n",
       "      <td>1</td>\n",
       "      <td>1</td>\n",
       "      <td>0</td>\n",
       "      <td>0</td>\n",
       "      <td>1</td>\n",
       "      <td>0</td>\n",
       "    </tr>\n",
       "    <tr>\n",
       "      <th>1</th>\n",
       "      <td>20228</td>\n",
       "      <td>1</td>\n",
       "      <td>156</td>\n",
       "      <td>85.0</td>\n",
       "      <td>140</td>\n",
       "      <td>90</td>\n",
       "      <td>3</td>\n",
       "      <td>1</td>\n",
       "      <td>0</td>\n",
       "      <td>0</td>\n",
       "      <td>1</td>\n",
       "      <td>1</td>\n",
       "    </tr>\n",
       "    <tr>\n",
       "      <th>2</th>\n",
       "      <td>18857</td>\n",
       "      <td>1</td>\n",
       "      <td>165</td>\n",
       "      <td>64.0</td>\n",
       "      <td>130</td>\n",
       "      <td>70</td>\n",
       "      <td>3</td>\n",
       "      <td>1</td>\n",
       "      <td>0</td>\n",
       "      <td>0</td>\n",
       "      <td>0</td>\n",
       "      <td>1</td>\n",
       "    </tr>\n",
       "  </tbody>\n",
       "</table>\n",
       "</div>"
      ],
      "text/plain": [
       "      age  gender  height  weight  systolic  diastolic  cholesterol  gluc  \\\n",
       "id                                                                          \n",
       "0   18393       2     168    62.0       110         80            1     1   \n",
       "1   20228       1     156    85.0       140         90            3     1   \n",
       "2   18857       1     165    64.0       130         70            3     1   \n",
       "\n",
       "    smoke  alco  active  cvd  \n",
       "id                            \n",
       "0       0     0       1    0  \n",
       "1       0     0       1    1  \n",
       "2       0     0       0    1  "
      ]
     },
     "execution_count": 36,
     "metadata": {},
     "output_type": "execute_result"
    }
   ],
   "source": [
    "df_raw.head(3)"
   ]
  },
  {
   "cell_type": "markdown",
   "metadata": {},
   "source": [
    "#### Inspecting and dropping duplicate rows"
   ]
  },
  {
   "cell_type": "code",
   "execution_count": 37,
   "metadata": {},
   "outputs": [
    {
     "data": {
      "text/plain": [
       "24"
      ]
     },
     "execution_count": 37,
     "metadata": {},
     "output_type": "execute_result"
    }
   ],
   "source": [
    "# Looking for duplicated values\n",
    "df_raw.duplicated().sum()"
   ]
  },
  {
   "cell_type": "code",
   "execution_count": 38,
   "metadata": {},
   "outputs": [],
   "source": [
    "dup_df = df_raw[df_raw.duplicated(keep=False)]"
   ]
  },
  {
   "cell_type": "markdown",
   "metadata": {},
   "source": [
    "We create a new dataframe containing only the duplicate values. Below, we inspect to make sure the rows within are actually duplicates."
   ]
  },
  {
   "cell_type": "code",
   "execution_count": 39,
   "metadata": {},
   "outputs": [
    {
     "data": {
      "text/html": [
       "<div>\n",
       "<style scoped>\n",
       "    .dataframe tbody tr th:only-of-type {\n",
       "        vertical-align: middle;\n",
       "    }\n",
       "\n",
       "    .dataframe tbody tr th {\n",
       "        vertical-align: top;\n",
       "    }\n",
       "\n",
       "    .dataframe thead th {\n",
       "        text-align: right;\n",
       "    }\n",
       "</style>\n",
       "<table border=\"1\" class=\"dataframe\">\n",
       "  <thead>\n",
       "    <tr style=\"text-align: right;\">\n",
       "      <th></th>\n",
       "      <th>age</th>\n",
       "      <th>gender</th>\n",
       "      <th>height</th>\n",
       "      <th>weight</th>\n",
       "      <th>systolic</th>\n",
       "      <th>diastolic</th>\n",
       "      <th>cholesterol</th>\n",
       "      <th>gluc</th>\n",
       "      <th>smoke</th>\n",
       "      <th>alco</th>\n",
       "      <th>active</th>\n",
       "      <th>cvd</th>\n",
       "    </tr>\n",
       "    <tr>\n",
       "      <th>id</th>\n",
       "      <th></th>\n",
       "      <th></th>\n",
       "      <th></th>\n",
       "      <th></th>\n",
       "      <th></th>\n",
       "      <th></th>\n",
       "      <th></th>\n",
       "      <th></th>\n",
       "      <th></th>\n",
       "      <th></th>\n",
       "      <th></th>\n",
       "      <th></th>\n",
       "    </tr>\n",
       "  </thead>\n",
       "  <tbody>\n",
       "    <tr>\n",
       "      <th>57690</th>\n",
       "      <td>14552</td>\n",
       "      <td>1</td>\n",
       "      <td>158</td>\n",
       "      <td>64.0</td>\n",
       "      <td>120</td>\n",
       "      <td>80</td>\n",
       "      <td>1</td>\n",
       "      <td>1</td>\n",
       "      <td>0</td>\n",
       "      <td>0</td>\n",
       "      <td>1</td>\n",
       "      <td>0</td>\n",
       "    </tr>\n",
       "    <tr>\n",
       "      <th>9004</th>\n",
       "      <td>14552</td>\n",
       "      <td>1</td>\n",
       "      <td>158</td>\n",
       "      <td>64.0</td>\n",
       "      <td>120</td>\n",
       "      <td>80</td>\n",
       "      <td>1</td>\n",
       "      <td>1</td>\n",
       "      <td>0</td>\n",
       "      <td>0</td>\n",
       "      <td>1</td>\n",
       "      <td>0</td>\n",
       "    </tr>\n",
       "    <tr>\n",
       "      <th>91592</th>\n",
       "      <td>16160</td>\n",
       "      <td>1</td>\n",
       "      <td>168</td>\n",
       "      <td>65.0</td>\n",
       "      <td>120</td>\n",
       "      <td>80</td>\n",
       "      <td>1</td>\n",
       "      <td>1</td>\n",
       "      <td>0</td>\n",
       "      <td>0</td>\n",
       "      <td>1</td>\n",
       "      <td>1</td>\n",
       "    </tr>\n",
       "    <tr>\n",
       "      <th>24435</th>\n",
       "      <td>16160</td>\n",
       "      <td>1</td>\n",
       "      <td>168</td>\n",
       "      <td>65.0</td>\n",
       "      <td>120</td>\n",
       "      <td>80</td>\n",
       "      <td>1</td>\n",
       "      <td>1</td>\n",
       "      <td>0</td>\n",
       "      <td>0</td>\n",
       "      <td>1</td>\n",
       "      <td>1</td>\n",
       "    </tr>\n",
       "    <tr>\n",
       "      <th>1685</th>\n",
       "      <td>16793</td>\n",
       "      <td>1</td>\n",
       "      <td>165</td>\n",
       "      <td>68.0</td>\n",
       "      <td>120</td>\n",
       "      <td>80</td>\n",
       "      <td>1</td>\n",
       "      <td>1</td>\n",
       "      <td>0</td>\n",
       "      <td>0</td>\n",
       "      <td>1</td>\n",
       "      <td>0</td>\n",
       "    </tr>\n",
       "    <tr>\n",
       "      <th>31110</th>\n",
       "      <td>16793</td>\n",
       "      <td>1</td>\n",
       "      <td>165</td>\n",
       "      <td>68.0</td>\n",
       "      <td>120</td>\n",
       "      <td>80</td>\n",
       "      <td>1</td>\n",
       "      <td>1</td>\n",
       "      <td>0</td>\n",
       "      <td>0</td>\n",
       "      <td>1</td>\n",
       "      <td>0</td>\n",
       "    </tr>\n",
       "    <tr>\n",
       "      <th>40450</th>\n",
       "      <td>16805</td>\n",
       "      <td>1</td>\n",
       "      <td>157</td>\n",
       "      <td>67.0</td>\n",
       "      <td>120</td>\n",
       "      <td>80</td>\n",
       "      <td>1</td>\n",
       "      <td>1</td>\n",
       "      <td>0</td>\n",
       "      <td>0</td>\n",
       "      <td>1</td>\n",
       "      <td>0</td>\n",
       "    </tr>\n",
       "    <tr>\n",
       "      <th>86345</th>\n",
       "      <td>16805</td>\n",
       "      <td>1</td>\n",
       "      <td>157</td>\n",
       "      <td>67.0</td>\n",
       "      <td>120</td>\n",
       "      <td>80</td>\n",
       "      <td>1</td>\n",
       "      <td>1</td>\n",
       "      <td>0</td>\n",
       "      <td>0</td>\n",
       "      <td>1</td>\n",
       "      <td>0</td>\n",
       "    </tr>\n",
       "    <tr>\n",
       "      <th>63776</th>\n",
       "      <td>16937</td>\n",
       "      <td>2</td>\n",
       "      <td>170</td>\n",
       "      <td>70.0</td>\n",
       "      <td>120</td>\n",
       "      <td>80</td>\n",
       "      <td>1</td>\n",
       "      <td>1</td>\n",
       "      <td>0</td>\n",
       "      <td>0</td>\n",
       "      <td>0</td>\n",
       "      <td>0</td>\n",
       "    </tr>\n",
       "    <tr>\n",
       "      <th>14974</th>\n",
       "      <td>16937</td>\n",
       "      <td>2</td>\n",
       "      <td>170</td>\n",
       "      <td>70.0</td>\n",
       "      <td>120</td>\n",
       "      <td>80</td>\n",
       "      <td>1</td>\n",
       "      <td>1</td>\n",
       "      <td>0</td>\n",
       "      <td>0</td>\n",
       "      <td>0</td>\n",
       "      <td>0</td>\n",
       "    </tr>\n",
       "  </tbody>\n",
       "</table>\n",
       "</div>"
      ],
      "text/plain": [
       "         age  gender  height  weight  systolic  diastolic  cholesterol  gluc  \\\n",
       "id                                                                             \n",
       "57690  14552       1     158    64.0       120         80            1     1   \n",
       "9004   14552       1     158    64.0       120         80            1     1   \n",
       "91592  16160       1     168    65.0       120         80            1     1   \n",
       "24435  16160       1     168    65.0       120         80            1     1   \n",
       "1685   16793       1     165    68.0       120         80            1     1   \n",
       "31110  16793       1     165    68.0       120         80            1     1   \n",
       "40450  16805       1     157    67.0       120         80            1     1   \n",
       "86345  16805       1     157    67.0       120         80            1     1   \n",
       "63776  16937       2     170    70.0       120         80            1     1   \n",
       "14974  16937       2     170    70.0       120         80            1     1   \n",
       "\n",
       "       smoke  alco  active  cvd  \n",
       "id                               \n",
       "57690      0     0       1    0  \n",
       "9004       0     0       1    0  \n",
       "91592      0     0       1    1  \n",
       "24435      0     0       1    1  \n",
       "1685       0     0       1    0  \n",
       "31110      0     0       1    0  \n",
       "40450      0     0       1    0  \n",
       "86345      0     0       1    0  \n",
       "63776      0     0       0    0  \n",
       "14974      0     0       0    0  "
      ]
     },
     "execution_count": 39,
     "metadata": {},
     "output_type": "execute_result"
    }
   ],
   "source": [
    "# Inspecting the duplicated rows to make sure they are actually duplicates\n",
    "dup_df.sort_values(by=['age']).head(10)"
   ]
  },
  {
   "cell_type": "code",
   "execution_count": 40,
   "metadata": {
    "scrolled": false
   },
   "outputs": [
    {
     "data": {
      "text/plain": [
       "0"
      ]
     },
     "execution_count": 40,
     "metadata": {},
     "output_type": "execute_result"
    }
   ],
   "source": [
    "#Dropping duplicates from dataframe\n",
    "df_clean = df_raw.drop_duplicates()\n",
    "df_clean.duplicated().sum()"
   ]
  },
  {
   "cell_type": "code",
   "execution_count": 41,
   "metadata": {},
   "outputs": [
    {
     "data": {
      "text/plain": [
       "69976"
      ]
     },
     "execution_count": 41,
     "metadata": {},
     "output_type": "execute_result"
    }
   ],
   "source": [
    "len(df_clean)"
   ]
  },
  {
   "cell_type": "code",
   "execution_count": 42,
   "metadata": {},
   "outputs": [
    {
     "data": {
      "text/plain": [
       "Index(['age', 'gender', 'height', 'weight', 'systolic', 'diastolic',\n",
       "       'cholesterol', 'gluc', 'smoke', 'alco', 'active', 'cvd'],\n",
       "      dtype='object')"
      ]
     },
     "execution_count": 42,
     "metadata": {},
     "output_type": "execute_result"
    }
   ],
   "source": [
    "df_clean.columns"
   ]
  },
  {
   "cell_type": "markdown",
   "metadata": {},
   "source": [
    "#### Inspecting Class counts"
   ]
  },
  {
   "cell_type": "code",
   "execution_count": 43,
   "metadata": {
    "scrolled": false
   },
   "outputs": [
    {
     "data": {
      "image/png": "[encoded data removed]",
      "text/plain": [
       "<Figure size 432x360 with 1 Axes>"
      ]
     },
     "metadata": {},
     "output_type": "display_data"
    }
   ],
   "source": [
    "fig, ax = plt.subplots(figsize=(6, 5))\n",
    "ax = sns.countplot(data=df_raw, x='cvd')\n",
    "ax.set_title('Count of Those w/ and w/o CVD');"
   ]
  },
  {
   "cell_type": "markdown",
   "metadata": {},
   "source": [
    "The data seems to have a very well balanced number of subjects with and without a cardiovascular disease (CVD). This dataset is most likely not representative of the actual proportion of those with a CVD."
   ]
  },
  {
   "cell_type": "code",
   "execution_count": 44,
   "metadata": {},
   "outputs": [
    {
     "data": {
      "text/plain": [
       "0    0.5002\n",
       "1    0.4998\n",
       "Name: cvd, dtype: float64"
      ]
     },
     "execution_count": 44,
     "metadata": {},
     "output_type": "execute_result"
    }
   ],
   "source": [
    "df_clean['cvd'].value_counts(normalize=True).round(4)"
   ]
  },
  {
   "cell_type": "markdown",
   "metadata": {},
   "source": [
    "#### Age \n",
    "We are converting age from days into years, and then plotting the age distribution. "
   ]
  },
  {
   "cell_type": "code",
   "execution_count": 45,
   "metadata": {},
   "outputs": [],
   "source": [
    "# Converting age from days to Years\n",
    "df_clean['age'] = (df_clean['age'] / 365).round().astype('int')"
   ]
  },
  {
   "cell_type": "code",
   "execution_count": 46,
   "metadata": {
    "scrolled": true
   },
   "outputs": [
    {
     "data": {
      "text/plain": [
       "count    69976.000000\n",
       "mean        53.338945\n",
       "std          6.765633\n",
       "min         30.000000\n",
       "25%         48.000000\n",
       "50%         54.000000\n",
       "75%         58.000000\n",
       "max         65.000000\n",
       "Name: age, dtype: float64"
      ]
     },
     "execution_count": 46,
     "metadata": {},
     "output_type": "execute_result"
    }
   ],
   "source": [
    "df_clean['age'].describe()"
   ]
  },
  {
   "cell_type": "code",
   "execution_count": 47,
   "metadata": {},
   "outputs": [
    {
     "data": {
      "image/png": "[encoded data removed]",
      "text/plain": [
       "<Figure size 432x360 with 1 Axes>"
      ]
     },
     "metadata": {},
     "output_type": "display_data"
    }
   ],
   "source": [
    "fig, ax = plt.subplots(figsize=(6, 5))\n",
    "ax = sns.histplot(data=df_clean, x='age', bins=15)\n",
    "ax.set_title('Distribution of Age in Dataset');"
   ]
  },
  {
   "cell_type": "markdown",
   "metadata": {},
   "source": [
    "Our age range in this dataset contains patients from 30 - 65 years of age."
   ]
  },
  {
   "cell_type": "code",
   "execution_count": 48,
   "metadata": {},
   "outputs": [],
   "source": [
    "#Converting gender from (1,2) to (0,1) values\n",
    "df_clean['gender'] = (df_clean['gender'] == 1).astype('int')"
   ]
  },
  {
   "cell_type": "code",
   "execution_count": 49,
   "metadata": {
    "scrolled": true
   },
   "outputs": [
    {
     "data": {
      "image/png": "[encoded data removed]",
      "text/plain": [
       "<Figure size 432x360 with 1 Axes>"
      ]
     },
     "metadata": {},
     "output_type": "display_data"
    }
   ],
   "source": [
    "fig, ax = plt.subplots(figsize=(6, 5))\n",
    "ax = sns.countplot(data=df_clean, x='gender')\n",
    "ax.set_title('Gender Countplot');"
   ]
  },
  {
   "cell_type": "code",
   "execution_count": 50,
   "metadata": {
    "scrolled": true
   },
   "outputs": [
    {
     "data": {
      "text/plain": [
       "1    0.6504\n",
       "0    0.3496\n",
       "Name: gender, dtype: float64"
      ]
     },
     "execution_count": 50,
     "metadata": {},
     "output_type": "execute_result"
    }
   ],
   "source": [
    "df_clean['gender'].value_counts(normalize=True).round(4)"
   ]
  },
  {
   "cell_type": "markdown",
   "metadata": {},
   "source": [
    "### Creating Function Transformers for Age and Gender"
   ]
  },
  {
   "cell_type": "code",
   "execution_count": 51,
   "metadata": {},
   "outputs": [],
   "source": [
    "def to_year(df):\n",
    "    new_df = df.copy()\n",
    "    new_df['age'] = (df['age'] / 365).round().astype('int')\n",
    "    return new_df"
   ]
  },
  {
   "cell_type": "code",
   "execution_count": 53,
   "metadata": {},
   "outputs": [],
   "source": [
    "get_year = FunctionTransformer(func=to_year)"
   ]
  },
  {
   "cell_type": "code",
   "execution_count": 57,
   "metadata": {},
   "outputs": [],
   "source": [
    "def remap_gender(df):\n",
    "    new_df = df.copy()\n",
    "    new_df['gender'] = (df['gender'] == 1).astype('int')\n",
    "    return new_df"
   ]
  },
  {
   "cell_type": "code",
   "execution_count": 58,
   "metadata": {},
   "outputs": [],
   "source": [
    "get_gender = FunctionTransformer(func=remap_gender)"
   ]
  },
  {
   "cell_type": "code",
   "execution_count": 78,
   "metadata": {
    "scrolled": true
   },
   "outputs": [
    {
     "data": {
      "text/html": [
       "<div>\n",
       "<style scoped>\n",
       "    .dataframe tbody tr th:only-of-type {\n",
       "        vertical-align: middle;\n",
       "    }\n",
       "\n",
       "    .dataframe tbody tr th {\n",
       "        vertical-align: top;\n",
       "    }\n",
       "\n",
       "    .dataframe thead th {\n",
       "        text-align: right;\n",
       "    }\n",
       "</style>\n",
       "<table border=\"1\" class=\"dataframe\">\n",
       "  <thead>\n",
       "    <tr style=\"text-align: right;\">\n",
       "      <th></th>\n",
       "      <th>age</th>\n",
       "      <th>gender</th>\n",
       "      <th>height</th>\n",
       "      <th>weight</th>\n",
       "      <th>systolic</th>\n",
       "      <th>diastolic</th>\n",
       "      <th>cholesterol</th>\n",
       "      <th>gluc</th>\n",
       "      <th>smoke</th>\n",
       "      <th>alco</th>\n",
       "      <th>active</th>\n",
       "      <th>cvd</th>\n",
       "    </tr>\n",
       "    <tr>\n",
       "      <th>id</th>\n",
       "      <th></th>\n",
       "      <th></th>\n",
       "      <th></th>\n",
       "      <th></th>\n",
       "      <th></th>\n",
       "      <th></th>\n",
       "      <th></th>\n",
       "      <th></th>\n",
       "      <th></th>\n",
       "      <th></th>\n",
       "      <th></th>\n",
       "      <th></th>\n",
       "    </tr>\n",
       "  </thead>\n",
       "  <tbody>\n",
       "    <tr>\n",
       "      <th>0</th>\n",
       "      <td>50</td>\n",
       "      <td>0</td>\n",
       "      <td>168</td>\n",
       "      <td>62.0</td>\n",
       "      <td>110</td>\n",
       "      <td>80</td>\n",
       "      <td>1</td>\n",
       "      <td>1</td>\n",
       "      <td>0</td>\n",
       "      <td>0</td>\n",
       "      <td>1</td>\n",
       "      <td>0</td>\n",
       "    </tr>\n",
       "    <tr>\n",
       "      <th>1</th>\n",
       "      <td>55</td>\n",
       "      <td>1</td>\n",
       "      <td>156</td>\n",
       "      <td>85.0</td>\n",
       "      <td>140</td>\n",
       "      <td>90</td>\n",
       "      <td>3</td>\n",
       "      <td>1</td>\n",
       "      <td>0</td>\n",
       "      <td>0</td>\n",
       "      <td>1</td>\n",
       "      <td>1</td>\n",
       "    </tr>\n",
       "    <tr>\n",
       "      <th>2</th>\n",
       "      <td>52</td>\n",
       "      <td>1</td>\n",
       "      <td>165</td>\n",
       "      <td>64.0</td>\n",
       "      <td>130</td>\n",
       "      <td>70</td>\n",
       "      <td>3</td>\n",
       "      <td>1</td>\n",
       "      <td>0</td>\n",
       "      <td>0</td>\n",
       "      <td>0</td>\n",
       "      <td>1</td>\n",
       "    </tr>\n",
       "    <tr>\n",
       "      <th>3</th>\n",
       "      <td>48</td>\n",
       "      <td>0</td>\n",
       "      <td>169</td>\n",
       "      <td>82.0</td>\n",
       "      <td>150</td>\n",
       "      <td>100</td>\n",
       "      <td>1</td>\n",
       "      <td>1</td>\n",
       "      <td>0</td>\n",
       "      <td>0</td>\n",
       "      <td>1</td>\n",
       "      <td>1</td>\n",
       "    </tr>\n",
       "    <tr>\n",
       "      <th>4</th>\n",
       "      <td>48</td>\n",
       "      <td>1</td>\n",
       "      <td>156</td>\n",
       "      <td>56.0</td>\n",
       "      <td>100</td>\n",
       "      <td>60</td>\n",
       "      <td>1</td>\n",
       "      <td>1</td>\n",
       "      <td>0</td>\n",
       "      <td>0</td>\n",
       "      <td>0</td>\n",
       "      <td>0</td>\n",
       "    </tr>\n",
       "  </tbody>\n",
       "</table>\n",
       "</div>"
      ],
      "text/plain": [
       "    age  gender  height  weight  systolic  diastolic  cholesterol  gluc  \\\n",
       "id                                                                        \n",
       "0    50       0     168    62.0       110         80            1     1   \n",
       "1    55       1     156    85.0       140         90            3     1   \n",
       "2    52       1     165    64.0       130         70            3     1   \n",
       "3    48       0     169    82.0       150        100            1     1   \n",
       "4    48       1     156    56.0       100         60            1     1   \n",
       "\n",
       "    smoke  alco  active  cvd  \n",
       "id                            \n",
       "0       0     0       1    0  \n",
       "1       0     0       1    1  \n",
       "2       0     0       0    1  \n",
       "3       0     0       1    1  \n",
       "4       0     0       0    0  "
      ]
     },
     "execution_count": 78,
     "metadata": {},
     "output_type": "execute_result"
    }
   ],
   "source": [
    "test_pipe = Pipeline(steps=[('get_year', get_year), \n",
    "                           ('get_gender', get_gender)])\n",
    "\n",
    "test_pipe.fit_transform(df_raw).head()"
   ]
  },
  {
   "cell_type": "markdown",
   "metadata": {},
   "source": [
    "## Creating New Columns"
   ]
  },
  {
   "cell_type": "markdown",
   "metadata": {},
   "source": [
    "#### BMI"
   ]
  },
  {
   "cell_type": "code",
   "execution_count": 61,
   "metadata": {},
   "outputs": [],
   "source": [
    "# Creating a column called 'bmi'\n",
    "df_clean['bmi'] = round(df_clean['weight'] / (df_clean['height']/100)**2, 2)"
   ]
  },
  {
   "cell_type": "markdown",
   "metadata": {},
   "source": [
    "Formula: $weight (kg) / (height[cm]/100)^2$\n",
    "\n",
    "According to the CDC, \"Body mass index (BMI) is a person’s weight in kilograms divided by the square of height in meters. BMI is an inexpensive and easy screening method for weight category—underweight, healthy weight, overweight, and obesity.\"[1]\n",
    "\n",
    "The formula for **BMI** is weight in kilograms divided by height in meters squared. If height has been measured in centimeters, divide by 100 to convert this to meters.\n"
   ]
  },
  {
   "cell_type": "code",
   "execution_count": null,
   "metadata": {},
   "outputs": [],
   "source": [
    "df_clean.head(3)"
   ]
  },
  {
   "cell_type": "markdown",
   "metadata": {},
   "source": [
    "#### Pulse Pressure"
   ]
  },
  {
   "cell_type": "code",
   "execution_count": null,
   "metadata": {},
   "outputs": [],
   "source": [
    "# Creating a column called 'pulse_pressure'\n",
    "df_clean['pulse_pressure'] = df_clean['systolic'] - df_clean['diastolic']"
   ]
  },
  {
   "cell_type": "markdown",
   "metadata": {},
   "source": [
    "According to Yildiran, Tansel et al., \"**Pulse pressure**(PP) is the difference between systolic and diastolic blood pressure (BP) values. Pulse pressure markedly rises after the 5th decade of life, due to arterial stiffening with increasing age. Several studies have shown a close relationship between high PP and the occurrence of cardiovascular (CV) death. Furthermore, high PP is a risk factor for the development of coronary heart disease, myocardial infarction, and heart failure in normotensive and hypertensive persons.\"[2]"
   ]
  },
  {
   "cell_type": "code",
   "execution_count": null,
   "metadata": {},
   "outputs": [],
   "source": [
    "df_clean.describe()"
   ]
  },
  {
   "cell_type": "markdown",
   "metadata": {},
   "source": [
    "### Creating BMI and Pulse Pressure Function Transformers"
   ]
  },
  {
   "cell_type": "code",
   "execution_count": 64,
   "metadata": {},
   "outputs": [],
   "source": [
    "def bmi(df):\n",
    "    new_df = df.copy()\n",
    "    new_df['bmi'] = round(df['weight'] / (df['height']/100)**2, 2)\n",
    "    return new_df"
   ]
  },
  {
   "cell_type": "code",
   "execution_count": 63,
   "metadata": {},
   "outputs": [],
   "source": [
    "def pulse_pressure(df):\n",
    "    new_df = df.copy()\n",
    "    new_df['pulse_pressure'] = df['systolic'] - df['diastolic']\n",
    "    return new_df"
   ]
  },
  {
   "cell_type": "code",
   "execution_count": 77,
   "metadata": {},
   "outputs": [
    {
     "data": {
      "text/html": [
       "<div>\n",
       "<style scoped>\n",
       "    .dataframe tbody tr th:only-of-type {\n",
       "        vertical-align: middle;\n",
       "    }\n",
       "\n",
       "    .dataframe tbody tr th {\n",
       "        vertical-align: top;\n",
       "    }\n",
       "\n",
       "    .dataframe thead th {\n",
       "        text-align: right;\n",
       "    }\n",
       "</style>\n",
       "<table border=\"1\" class=\"dataframe\">\n",
       "  <thead>\n",
       "    <tr style=\"text-align: right;\">\n",
       "      <th></th>\n",
       "      <th>age</th>\n",
       "      <th>gender</th>\n",
       "      <th>height</th>\n",
       "      <th>weight</th>\n",
       "      <th>systolic</th>\n",
       "      <th>diastolic</th>\n",
       "      <th>cholesterol</th>\n",
       "      <th>gluc</th>\n",
       "      <th>smoke</th>\n",
       "      <th>alco</th>\n",
       "      <th>active</th>\n",
       "      <th>cvd</th>\n",
       "      <th>bmi</th>\n",
       "      <th>pulse_pressure</th>\n",
       "    </tr>\n",
       "    <tr>\n",
       "      <th>id</th>\n",
       "      <th></th>\n",
       "      <th></th>\n",
       "      <th></th>\n",
       "      <th></th>\n",
       "      <th></th>\n",
       "      <th></th>\n",
       "      <th></th>\n",
       "      <th></th>\n",
       "      <th></th>\n",
       "      <th></th>\n",
       "      <th></th>\n",
       "      <th></th>\n",
       "      <th></th>\n",
       "      <th></th>\n",
       "    </tr>\n",
       "  </thead>\n",
       "  <tbody>\n",
       "    <tr>\n",
       "      <th>0</th>\n",
       "      <td>50</td>\n",
       "      <td>0</td>\n",
       "      <td>168</td>\n",
       "      <td>62.0</td>\n",
       "      <td>110</td>\n",
       "      <td>80</td>\n",
       "      <td>1</td>\n",
       "      <td>1</td>\n",
       "      <td>0</td>\n",
       "      <td>0</td>\n",
       "      <td>1</td>\n",
       "      <td>0</td>\n",
       "      <td>21.97</td>\n",
       "      <td>30</td>\n",
       "    </tr>\n",
       "    <tr>\n",
       "      <th>1</th>\n",
       "      <td>55</td>\n",
       "      <td>1</td>\n",
       "      <td>156</td>\n",
       "      <td>85.0</td>\n",
       "      <td>140</td>\n",
       "      <td>90</td>\n",
       "      <td>3</td>\n",
       "      <td>1</td>\n",
       "      <td>0</td>\n",
       "      <td>0</td>\n",
       "      <td>1</td>\n",
       "      <td>1</td>\n",
       "      <td>34.93</td>\n",
       "      <td>50</td>\n",
       "    </tr>\n",
       "    <tr>\n",
       "      <th>2</th>\n",
       "      <td>52</td>\n",
       "      <td>1</td>\n",
       "      <td>165</td>\n",
       "      <td>64.0</td>\n",
       "      <td>130</td>\n",
       "      <td>70</td>\n",
       "      <td>3</td>\n",
       "      <td>1</td>\n",
       "      <td>0</td>\n",
       "      <td>0</td>\n",
       "      <td>0</td>\n",
       "      <td>1</td>\n",
       "      <td>23.51</td>\n",
       "      <td>60</td>\n",
       "    </tr>\n",
       "    <tr>\n",
       "      <th>3</th>\n",
       "      <td>48</td>\n",
       "      <td>0</td>\n",
       "      <td>169</td>\n",
       "      <td>82.0</td>\n",
       "      <td>150</td>\n",
       "      <td>100</td>\n",
       "      <td>1</td>\n",
       "      <td>1</td>\n",
       "      <td>0</td>\n",
       "      <td>0</td>\n",
       "      <td>1</td>\n",
       "      <td>1</td>\n",
       "      <td>28.71</td>\n",
       "      <td>50</td>\n",
       "    </tr>\n",
       "    <tr>\n",
       "      <th>4</th>\n",
       "      <td>48</td>\n",
       "      <td>1</td>\n",
       "      <td>156</td>\n",
       "      <td>56.0</td>\n",
       "      <td>100</td>\n",
       "      <td>60</td>\n",
       "      <td>1</td>\n",
       "      <td>1</td>\n",
       "      <td>0</td>\n",
       "      <td>0</td>\n",
       "      <td>0</td>\n",
       "      <td>0</td>\n",
       "      <td>23.01</td>\n",
       "      <td>40</td>\n",
       "    </tr>\n",
       "  </tbody>\n",
       "</table>\n",
       "</div>"
      ],
      "text/plain": [
       "    age  gender  height  weight  systolic  diastolic  cholesterol  gluc  \\\n",
       "id                                                                        \n",
       "0    50       0     168    62.0       110         80            1     1   \n",
       "1    55       1     156    85.0       140         90            3     1   \n",
       "2    52       1     165    64.0       130         70            3     1   \n",
       "3    48       0     169    82.0       150        100            1     1   \n",
       "4    48       1     156    56.0       100         60            1     1   \n",
       "\n",
       "    smoke  alco  active  cvd    bmi  pulse_pressure  \n",
       "id                                                   \n",
       "0       0     0       1    0  21.97              30  \n",
       "1       0     0       1    1  34.93              50  \n",
       "2       0     0       0    1  23.51              60  \n",
       "3       0     0       1    1  28.71              50  \n",
       "4       0     0       0    0  23.01              40  "
      ]
     },
     "execution_count": 77,
     "metadata": {},
     "output_type": "execute_result"
    }
   ],
   "source": [
    "get_bmi = FunctionTransformer(func=bmi)\n",
    "get_pulse_pressure = FunctionTransformer(func=pulse_pressure)\n",
    "\n",
    "test_pipe = Pipeline(steps=[('get_year', get_year), \n",
    "                           ('get_gender', get_gender), \n",
    "                           ('get_bmi', get_bmi), \n",
    "                           ('get_pulse_pressure', get_pulse_pressure)])\n",
    "\n",
    "test_pipe.fit_transform(df_raw).head()"
   ]
  },
  {
   "cell_type": "markdown",
   "metadata": {},
   "source": [
    "#### Blood Pressure Categories"
   ]
  },
  {
   "cell_type": "code",
   "execution_count": 68,
   "metadata": {},
   "outputs": [],
   "source": [
    "# Creating a categorical column to determine Blood Pressure Categories\n",
    "# These values are from the American Heart Association\n",
    "def bp_cat(row):\n",
    "    \"\"\"\n",
    "    Definition:\n",
    "    Applies a categorical value based on a row's systolic and diastolic levels.\n",
    "    These values are recognized by the American Heart Association.\n",
    "    \n",
    "    Args:\n",
    "    row: row in the dataframe\n",
    "    \n",
    "    Returns:\n",
    "    The Categorical value for each row.\n",
    "    \"\"\"\n",
    "    \n",
    "    if (row['systolic'] < 120) and (row['diastolic'] < 80):\n",
    "        return 'normal'\n",
    "    elif ((row['systolic'] >= 120) and (row['systolic'] < 130)) and (row['diastolic'] < 80):\n",
    "        return 'elevated'\n",
    "    elif ((row['systolic'] >= 130) and (row['systolic'] < 140)) or ((row['diastolic'] >= 80) and (row['diastolic'] < 90)):\n",
    "        return 'hypertension_1'\n",
    "    elif ((row['systolic'] >= 140) and row['systolic'] < 180) or ((row['diastolic'] >= 90) and row['diastolic'] < 120):\n",
    "        return 'hypertension_2'\n",
    "    else:\n",
    "        return 'hypertension_3'\n",
    "        "
   ]
  },
  {
   "cell_type": "code",
   "execution_count": 69,
   "metadata": {
    "scrolled": true
   },
   "outputs": [],
   "source": [
    "df_clean['bp_cat'] = df_clean.apply(lambda row: bp_cat(row), axis=1)"
   ]
  },
  {
   "cell_type": "code",
   "execution_count": 70,
   "metadata": {},
   "outputs": [
    {
     "data": {
      "text/html": [
       "<div>\n",
       "<style scoped>\n",
       "    .dataframe tbody tr th:only-of-type {\n",
       "        vertical-align: middle;\n",
       "    }\n",
       "\n",
       "    .dataframe tbody tr th {\n",
       "        vertical-align: top;\n",
       "    }\n",
       "\n",
       "    .dataframe thead th {\n",
       "        text-align: right;\n",
       "    }\n",
       "</style>\n",
       "<table border=\"1\" class=\"dataframe\">\n",
       "  <thead>\n",
       "    <tr style=\"text-align: right;\">\n",
       "      <th></th>\n",
       "      <th>age</th>\n",
       "      <th>gender</th>\n",
       "      <th>height</th>\n",
       "      <th>weight</th>\n",
       "      <th>systolic</th>\n",
       "      <th>diastolic</th>\n",
       "      <th>cholesterol</th>\n",
       "      <th>gluc</th>\n",
       "      <th>smoke</th>\n",
       "      <th>alco</th>\n",
       "      <th>active</th>\n",
       "      <th>cvd</th>\n",
       "      <th>bmi</th>\n",
       "      <th>bp_cat</th>\n",
       "    </tr>\n",
       "    <tr>\n",
       "      <th>id</th>\n",
       "      <th></th>\n",
       "      <th></th>\n",
       "      <th></th>\n",
       "      <th></th>\n",
       "      <th></th>\n",
       "      <th></th>\n",
       "      <th></th>\n",
       "      <th></th>\n",
       "      <th></th>\n",
       "      <th></th>\n",
       "      <th></th>\n",
       "      <th></th>\n",
       "      <th></th>\n",
       "      <th></th>\n",
       "    </tr>\n",
       "  </thead>\n",
       "  <tbody>\n",
       "    <tr>\n",
       "      <th>0</th>\n",
       "      <td>50</td>\n",
       "      <td>0</td>\n",
       "      <td>168</td>\n",
       "      <td>62.0</td>\n",
       "      <td>110</td>\n",
       "      <td>80</td>\n",
       "      <td>1</td>\n",
       "      <td>1</td>\n",
       "      <td>0</td>\n",
       "      <td>0</td>\n",
       "      <td>1</td>\n",
       "      <td>0</td>\n",
       "      <td>21.97</td>\n",
       "      <td>hypertension_1</td>\n",
       "    </tr>\n",
       "    <tr>\n",
       "      <th>1</th>\n",
       "      <td>55</td>\n",
       "      <td>1</td>\n",
       "      <td>156</td>\n",
       "      <td>85.0</td>\n",
       "      <td>140</td>\n",
       "      <td>90</td>\n",
       "      <td>3</td>\n",
       "      <td>1</td>\n",
       "      <td>0</td>\n",
       "      <td>0</td>\n",
       "      <td>1</td>\n",
       "      <td>1</td>\n",
       "      <td>34.93</td>\n",
       "      <td>hypertension_2</td>\n",
       "    </tr>\n",
       "    <tr>\n",
       "      <th>2</th>\n",
       "      <td>52</td>\n",
       "      <td>1</td>\n",
       "      <td>165</td>\n",
       "      <td>64.0</td>\n",
       "      <td>130</td>\n",
       "      <td>70</td>\n",
       "      <td>3</td>\n",
       "      <td>1</td>\n",
       "      <td>0</td>\n",
       "      <td>0</td>\n",
       "      <td>0</td>\n",
       "      <td>1</td>\n",
       "      <td>23.51</td>\n",
       "      <td>hypertension_1</td>\n",
       "    </tr>\n",
       "  </tbody>\n",
       "</table>\n",
       "</div>"
      ],
      "text/plain": [
       "    age  gender  height  weight  systolic  diastolic  cholesterol  gluc  \\\n",
       "id                                                                        \n",
       "0    50       0     168    62.0       110         80            1     1   \n",
       "1    55       1     156    85.0       140         90            3     1   \n",
       "2    52       1     165    64.0       130         70            3     1   \n",
       "\n",
       "    smoke  alco  active  cvd    bmi          bp_cat  \n",
       "id                                                   \n",
       "0       0     0       1    0  21.97  hypertension_1  \n",
       "1       0     0       1    1  34.93  hypertension_2  \n",
       "2       0     0       0    1  23.51  hypertension_1  "
      ]
     },
     "execution_count": 70,
     "metadata": {},
     "output_type": "execute_result"
    }
   ],
   "source": [
    "df_clean.head(3)"
   ]
  },
  {
   "cell_type": "code",
   "execution_count": 71,
   "metadata": {
    "scrolled": true
   },
   "outputs": [
    {
     "data": {
      "text/plain": [
       "hypertension_1    39911\n",
       "hypertension_2    16915\n",
       "normal             9607\n",
       "elevated           3125\n",
       "hypertension_3      418\n",
       "Name: bp_cat, dtype: int64"
      ]
     },
     "execution_count": 71,
     "metadata": {},
     "output_type": "execute_result"
    }
   ],
   "source": [
    "df_clean['bp_cat'].value_counts()"
   ]
  },
  {
   "cell_type": "markdown",
   "metadata": {},
   "source": [
    "### Creating Blood Pressure Category Function Transformer"
   ]
  },
  {
   "cell_type": "code",
   "execution_count": 72,
   "metadata": {},
   "outputs": [],
   "source": [
    "def to_bp_cat(df):\n",
    "    new_df = df.copy()\n",
    "    new_df['bp_cat'] = new_df.apply(lambda row: bp_cat(row), axis=1)\n",
    "    return new_df"
   ]
  },
  {
   "cell_type": "code",
   "execution_count": 76,
   "metadata": {},
   "outputs": [
    {
     "data": {
      "text/html": [
       "<div>\n",
       "<style scoped>\n",
       "    .dataframe tbody tr th:only-of-type {\n",
       "        vertical-align: middle;\n",
       "    }\n",
       "\n",
       "    .dataframe tbody tr th {\n",
       "        vertical-align: top;\n",
       "    }\n",
       "\n",
       "    .dataframe thead th {\n",
       "        text-align: right;\n",
       "    }\n",
       "</style>\n",
       "<table border=\"1\" class=\"dataframe\">\n",
       "  <thead>\n",
       "    <tr style=\"text-align: right;\">\n",
       "      <th></th>\n",
       "      <th>age</th>\n",
       "      <th>gender</th>\n",
       "      <th>height</th>\n",
       "      <th>weight</th>\n",
       "      <th>systolic</th>\n",
       "      <th>diastolic</th>\n",
       "      <th>cholesterol</th>\n",
       "      <th>gluc</th>\n",
       "      <th>smoke</th>\n",
       "      <th>alco</th>\n",
       "      <th>active</th>\n",
       "      <th>cvd</th>\n",
       "      <th>bmi</th>\n",
       "      <th>pulse_pressure</th>\n",
       "      <th>bp_cat</th>\n",
       "    </tr>\n",
       "    <tr>\n",
       "      <th>id</th>\n",
       "      <th></th>\n",
       "      <th></th>\n",
       "      <th></th>\n",
       "      <th></th>\n",
       "      <th></th>\n",
       "      <th></th>\n",
       "      <th></th>\n",
       "      <th></th>\n",
       "      <th></th>\n",
       "      <th></th>\n",
       "      <th></th>\n",
       "      <th></th>\n",
       "      <th></th>\n",
       "      <th></th>\n",
       "      <th></th>\n",
       "    </tr>\n",
       "  </thead>\n",
       "  <tbody>\n",
       "    <tr>\n",
       "      <th>0</th>\n",
       "      <td>50</td>\n",
       "      <td>0</td>\n",
       "      <td>168</td>\n",
       "      <td>62.0</td>\n",
       "      <td>110</td>\n",
       "      <td>80</td>\n",
       "      <td>1</td>\n",
       "      <td>1</td>\n",
       "      <td>0</td>\n",
       "      <td>0</td>\n",
       "      <td>1</td>\n",
       "      <td>0</td>\n",
       "      <td>21.97</td>\n",
       "      <td>30</td>\n",
       "      <td>hypertension_1</td>\n",
       "    </tr>\n",
       "    <tr>\n",
       "      <th>1</th>\n",
       "      <td>55</td>\n",
       "      <td>1</td>\n",
       "      <td>156</td>\n",
       "      <td>85.0</td>\n",
       "      <td>140</td>\n",
       "      <td>90</td>\n",
       "      <td>3</td>\n",
       "      <td>1</td>\n",
       "      <td>0</td>\n",
       "      <td>0</td>\n",
       "      <td>1</td>\n",
       "      <td>1</td>\n",
       "      <td>34.93</td>\n",
       "      <td>50</td>\n",
       "      <td>hypertension_2</td>\n",
       "    </tr>\n",
       "    <tr>\n",
       "      <th>2</th>\n",
       "      <td>52</td>\n",
       "      <td>1</td>\n",
       "      <td>165</td>\n",
       "      <td>64.0</td>\n",
       "      <td>130</td>\n",
       "      <td>70</td>\n",
       "      <td>3</td>\n",
       "      <td>1</td>\n",
       "      <td>0</td>\n",
       "      <td>0</td>\n",
       "      <td>0</td>\n",
       "      <td>1</td>\n",
       "      <td>23.51</td>\n",
       "      <td>60</td>\n",
       "      <td>hypertension_1</td>\n",
       "    </tr>\n",
       "    <tr>\n",
       "      <th>3</th>\n",
       "      <td>48</td>\n",
       "      <td>0</td>\n",
       "      <td>169</td>\n",
       "      <td>82.0</td>\n",
       "      <td>150</td>\n",
       "      <td>100</td>\n",
       "      <td>1</td>\n",
       "      <td>1</td>\n",
       "      <td>0</td>\n",
       "      <td>0</td>\n",
       "      <td>1</td>\n",
       "      <td>1</td>\n",
       "      <td>28.71</td>\n",
       "      <td>50</td>\n",
       "      <td>hypertension_2</td>\n",
       "    </tr>\n",
       "    <tr>\n",
       "      <th>4</th>\n",
       "      <td>48</td>\n",
       "      <td>1</td>\n",
       "      <td>156</td>\n",
       "      <td>56.0</td>\n",
       "      <td>100</td>\n",
       "      <td>60</td>\n",
       "      <td>1</td>\n",
       "      <td>1</td>\n",
       "      <td>0</td>\n",
       "      <td>0</td>\n",
       "      <td>0</td>\n",
       "      <td>0</td>\n",
       "      <td>23.01</td>\n",
       "      <td>40</td>\n",
       "      <td>normal</td>\n",
       "    </tr>\n",
       "  </tbody>\n",
       "</table>\n",
       "</div>"
      ],
      "text/plain": [
       "    age  gender  height  weight  systolic  diastolic  cholesterol  gluc  \\\n",
       "id                                                                        \n",
       "0    50       0     168    62.0       110         80            1     1   \n",
       "1    55       1     156    85.0       140         90            3     1   \n",
       "2    52       1     165    64.0       130         70            3     1   \n",
       "3    48       0     169    82.0       150        100            1     1   \n",
       "4    48       1     156    56.0       100         60            1     1   \n",
       "\n",
       "    smoke  alco  active  cvd    bmi  pulse_pressure          bp_cat  \n",
       "id                                                                   \n",
       "0       0     0       1    0  21.97              30  hypertension_1  \n",
       "1       0     0       1    1  34.93              50  hypertension_2  \n",
       "2       0     0       0    1  23.51              60  hypertension_1  \n",
       "3       0     0       1    1  28.71              50  hypertension_2  \n",
       "4       0     0       0    0  23.01              40          normal  "
      ]
     },
     "execution_count": 76,
     "metadata": {},
     "output_type": "execute_result"
    }
   ],
   "source": [
    "get_bp_cat = FunctionTransformer(func=to_bp_cat)\n",
    "\n",
    "test_pipe = Pipeline(steps=[('get_year', get_year), \n",
    "                           ('get_gender', get_gender), \n",
    "                           ('get_bmi', get_bmi), \n",
    "                           ('get_pulse_pressure', get_pulse_pressure), \n",
    "                           ('get_bp_cat', get_bp_cat)])\n",
    "\n",
    "test_pipe.fit_transform(df_raw).head()"
   ]
  },
  {
   "cell_type": "markdown",
   "metadata": {},
   "source": [
    "### Creating a Frequency Plot Function"
   ]
  },
  {
   "cell_type": "code",
   "execution_count": 74,
   "metadata": {
    "scrolled": true
   },
   "outputs": [],
   "source": [
    "def frequency_plot(df, group, target, order=None, title='', xlabel='', get_df=0, \n",
    "                  figsize=(7,6)):\n",
    "    \"\"\"\n",
    "    Definition:\n",
    "    plots the percentage of no CVD to CVD in each value of a column\n",
    "    \n",
    "    Args:\n",
    "    df = dataframe\n",
    "    group = column to look at\n",
    "    target = target value (CVD). Used to define the hue of the plot\n",
    "    order = a list of values defined within the column\n",
    "    title = the plot's title\n",
    "    xlabel = the plot's xlabel\n",
    "    get_df = returns df_plot if get_df=1. Default is set to 0.\n",
    "    \n",
    "    Returns:\n",
    "    df_plot if get_df == 1.\n",
    "    Plots the frequency plot using seaborn's barplot on our grouped dataframe\n",
    "    \"\"\"\n",
    "    \n",
    "    df_plot = df.groupby(group)[target].value_counts(normalize=True).\\\n",
    "              to_frame('frequency').reset_index()\n",
    "    fig, ax = plt.subplots(figsize=(figsize))\n",
    "    ax = sns.barplot(data=df_plot, x=group, y='frequency', hue=target, \n",
    "                    order=order)\n",
    "    ax.set_title(title)\n",
    "    if len(xlabel) > 0:\n",
    "        ax.set_xlabel(xlabel)\n",
    "    plt.show()\n",
    "    \n",
    "    if get_df:\n",
    "        return df_plot"
   ]
  },
  {
   "cell_type": "code",
   "execution_count": 75,
   "metadata": {},
   "outputs": [
    {
     "data": {
      "image/png": "[encoded data removed]",
      "text/plain": [
       "<Figure size 504x432 with 1 Axes>"
      ]
     },
     "metadata": {},
     "output_type": "display_data"
    }
   ],
   "source": [
    "order = ['normal', 'elevated', \n",
    "               'hypertension_1', 'hypertension_2', 'hypertension_3']\n",
    "\n",
    "frequency_plot(df_clean, group='bp_cat', target='cvd', order=order, \n",
    "               title='Blood Pressure Categories and Prevalence of CVDs',\n",
    "              xlabel='Blood Pressure Categories')"
   ]
  },
  {
   "cell_type": "markdown",
   "metadata": {},
   "source": [
    "Those who have hypertension 2 or greater are much more likely to have a CVD. Those with a normal blood pressure seem to be less likely to have a CVD. Those with hypertension 1 have a greater chance of having a CVD than those with a normal blood pressure. "
   ]
  },
  {
   "cell_type": "markdown",
   "metadata": {},
   "source": [
    "#### BMI Categories"
   ]
  },
  {
   "cell_type": "code",
   "execution_count": 79,
   "metadata": {},
   "outputs": [],
   "source": [
    "def bmi_cat(row):\n",
    "    \"\"\"\n",
    "    Definition:\n",
    "    Applies a categorical value for each row in the dataframe based on the value\n",
    "    of the bmi for that row. These values are recognized by the Centers for Disease\n",
    "    Control and Prevention.\n",
    "    \n",
    "    Args:\n",
    "    row = row in dataframe\n",
    "    \n",
    "    Returns:\n",
    "    Categorical value for each row in the dataframe.\n",
    "    \"\"\"\n",
    "    \n",
    "    if (row['bmi'] < 18.5):\n",
    "        return 'underweight'\n",
    "    elif (row['bmi'] >= 18.5) and (row['bmi'] < 25):\n",
    "        return 'normal'\n",
    "    elif (row['bmi'] >= 25) and (row['bmi'] < 30):\n",
    "        return 'overweight'\n",
    "    else:\n",
    "        return 'obese'\n",
    "        "
   ]
  },
  {
   "cell_type": "code",
   "execution_count": 80,
   "metadata": {},
   "outputs": [],
   "source": [
    "df_clean['bmi_cat'] = df_clean.apply(lambda row: bmi_cat(row), axis=1)"
   ]
  },
  {
   "cell_type": "code",
   "execution_count": 81,
   "metadata": {
    "scrolled": false
   },
   "outputs": [
    {
     "data": {
      "text/plain": [
       "normal         25638\n",
       "overweight     25169\n",
       "obese          18525\n",
       "underweight      644\n",
       "Name: bmi_cat, dtype: int64"
      ]
     },
     "execution_count": 81,
     "metadata": {},
     "output_type": "execute_result"
    }
   ],
   "source": [
    "df_clean['bmi_cat'].value_counts()"
   ]
  },
  {
   "cell_type": "code",
   "execution_count": 82,
   "metadata": {
    "scrolled": true
   },
   "outputs": [
    {
     "data": {
      "text/html": [
       "<div>\n",
       "<style scoped>\n",
       "    .dataframe tbody tr th:only-of-type {\n",
       "        vertical-align: middle;\n",
       "    }\n",
       "\n",
       "    .dataframe tbody tr th {\n",
       "        vertical-align: top;\n",
       "    }\n",
       "\n",
       "    .dataframe thead th {\n",
       "        text-align: right;\n",
       "    }\n",
       "</style>\n",
       "<table border=\"1\" class=\"dataframe\">\n",
       "  <thead>\n",
       "    <tr style=\"text-align: right;\">\n",
       "      <th></th>\n",
       "      <th>age</th>\n",
       "      <th>gender</th>\n",
       "      <th>height</th>\n",
       "      <th>weight</th>\n",
       "      <th>systolic</th>\n",
       "      <th>diastolic</th>\n",
       "      <th>cholesterol</th>\n",
       "      <th>gluc</th>\n",
       "      <th>smoke</th>\n",
       "      <th>alco</th>\n",
       "      <th>active</th>\n",
       "      <th>cvd</th>\n",
       "      <th>bmi</th>\n",
       "      <th>bp_cat</th>\n",
       "      <th>bmi_cat</th>\n",
       "    </tr>\n",
       "    <tr>\n",
       "      <th>id</th>\n",
       "      <th></th>\n",
       "      <th></th>\n",
       "      <th></th>\n",
       "      <th></th>\n",
       "      <th></th>\n",
       "      <th></th>\n",
       "      <th></th>\n",
       "      <th></th>\n",
       "      <th></th>\n",
       "      <th></th>\n",
       "      <th></th>\n",
       "      <th></th>\n",
       "      <th></th>\n",
       "      <th></th>\n",
       "      <th></th>\n",
       "    </tr>\n",
       "  </thead>\n",
       "  <tbody>\n",
       "    <tr>\n",
       "      <th>0</th>\n",
       "      <td>50</td>\n",
       "      <td>0</td>\n",
       "      <td>168</td>\n",
       "      <td>62.0</td>\n",
       "      <td>110</td>\n",
       "      <td>80</td>\n",
       "      <td>1</td>\n",
       "      <td>1</td>\n",
       "      <td>0</td>\n",
       "      <td>0</td>\n",
       "      <td>1</td>\n",
       "      <td>0</td>\n",
       "      <td>21.97</td>\n",
       "      <td>hypertension_1</td>\n",
       "      <td>normal</td>\n",
       "    </tr>\n",
       "    <tr>\n",
       "      <th>1</th>\n",
       "      <td>55</td>\n",
       "      <td>1</td>\n",
       "      <td>156</td>\n",
       "      <td>85.0</td>\n",
       "      <td>140</td>\n",
       "      <td>90</td>\n",
       "      <td>3</td>\n",
       "      <td>1</td>\n",
       "      <td>0</td>\n",
       "      <td>0</td>\n",
       "      <td>1</td>\n",
       "      <td>1</td>\n",
       "      <td>34.93</td>\n",
       "      <td>hypertension_2</td>\n",
       "      <td>obese</td>\n",
       "    </tr>\n",
       "    <tr>\n",
       "      <th>2</th>\n",
       "      <td>52</td>\n",
       "      <td>1</td>\n",
       "      <td>165</td>\n",
       "      <td>64.0</td>\n",
       "      <td>130</td>\n",
       "      <td>70</td>\n",
       "      <td>3</td>\n",
       "      <td>1</td>\n",
       "      <td>0</td>\n",
       "      <td>0</td>\n",
       "      <td>0</td>\n",
       "      <td>1</td>\n",
       "      <td>23.51</td>\n",
       "      <td>hypertension_1</td>\n",
       "      <td>normal</td>\n",
       "    </tr>\n",
       "  </tbody>\n",
       "</table>\n",
       "</div>"
      ],
      "text/plain": [
       "    age  gender  height  weight  systolic  diastolic  cholesterol  gluc  \\\n",
       "id                                                                        \n",
       "0    50       0     168    62.0       110         80            1     1   \n",
       "1    55       1     156    85.0       140         90            3     1   \n",
       "2    52       1     165    64.0       130         70            3     1   \n",
       "\n",
       "    smoke  alco  active  cvd    bmi          bp_cat bmi_cat  \n",
       "id                                                           \n",
       "0       0     0       1    0  21.97  hypertension_1  normal  \n",
       "1       0     0       1    1  34.93  hypertension_2   obese  \n",
       "2       0     0       0    1  23.51  hypertension_1  normal  "
      ]
     },
     "execution_count": 82,
     "metadata": {},
     "output_type": "execute_result"
    }
   ],
   "source": [
    "df_clean.head(3)"
   ]
  },
  {
   "cell_type": "code",
   "execution_count": 83,
   "metadata": {
    "scrolled": false
   },
   "outputs": [
    {
     "data": {
      "text/plain": [
       "array(['normal', 'obese', 'overweight', 'underweight'], dtype=object)"
      ]
     },
     "execution_count": 83,
     "metadata": {},
     "output_type": "execute_result"
    }
   ],
   "source": [
    "df_clean['bmi_cat'].unique()"
   ]
  },
  {
   "cell_type": "markdown",
   "metadata": {},
   "source": [
    "### Creating BMI Category Function Transformer"
   ]
  },
  {
   "cell_type": "code",
   "execution_count": 85,
   "metadata": {},
   "outputs": [],
   "source": [
    "def to_bmi_cat(df):\n",
    "    new_df = df.copy()\n",
    "    new_df['bmi_cat'] = new_df.apply(lambda row: bmi_cat(row), axis=1)\n",
    "    return new_df"
   ]
  },
  {
   "cell_type": "code",
   "execution_count": 87,
   "metadata": {},
   "outputs": [
    {
     "data": {
      "text/html": [
       "<div>\n",
       "<style scoped>\n",
       "    .dataframe tbody tr th:only-of-type {\n",
       "        vertical-align: middle;\n",
       "    }\n",
       "\n",
       "    .dataframe tbody tr th {\n",
       "        vertical-align: top;\n",
       "    }\n",
       "\n",
       "    .dataframe thead th {\n",
       "        text-align: right;\n",
       "    }\n",
       "</style>\n",
       "<table border=\"1\" class=\"dataframe\">\n",
       "  <thead>\n",
       "    <tr style=\"text-align: right;\">\n",
       "      <th></th>\n",
       "      <th>age</th>\n",
       "      <th>gender</th>\n",
       "      <th>height</th>\n",
       "      <th>weight</th>\n",
       "      <th>systolic</th>\n",
       "      <th>diastolic</th>\n",
       "      <th>cholesterol</th>\n",
       "      <th>gluc</th>\n",
       "      <th>smoke</th>\n",
       "      <th>alco</th>\n",
       "      <th>active</th>\n",
       "      <th>cvd</th>\n",
       "      <th>bmi</th>\n",
       "      <th>pulse_pressure</th>\n",
       "      <th>bp_cat</th>\n",
       "      <th>bmi_cat</th>\n",
       "    </tr>\n",
       "    <tr>\n",
       "      <th>id</th>\n",
       "      <th></th>\n",
       "      <th></th>\n",
       "      <th></th>\n",
       "      <th></th>\n",
       "      <th></th>\n",
       "      <th></th>\n",
       "      <th></th>\n",
       "      <th></th>\n",
       "      <th></th>\n",
       "      <th></th>\n",
       "      <th></th>\n",
       "      <th></th>\n",
       "      <th></th>\n",
       "      <th></th>\n",
       "      <th></th>\n",
       "      <th></th>\n",
       "    </tr>\n",
       "  </thead>\n",
       "  <tbody>\n",
       "    <tr>\n",
       "      <th>0</th>\n",
       "      <td>50</td>\n",
       "      <td>0</td>\n",
       "      <td>168</td>\n",
       "      <td>62.0</td>\n",
       "      <td>110</td>\n",
       "      <td>80</td>\n",
       "      <td>1</td>\n",
       "      <td>1</td>\n",
       "      <td>0</td>\n",
       "      <td>0</td>\n",
       "      <td>1</td>\n",
       "      <td>0</td>\n",
       "      <td>21.97</td>\n",
       "      <td>30</td>\n",
       "      <td>hypertension_1</td>\n",
       "      <td>normal</td>\n",
       "    </tr>\n",
       "    <tr>\n",
       "      <th>1</th>\n",
       "      <td>55</td>\n",
       "      <td>1</td>\n",
       "      <td>156</td>\n",
       "      <td>85.0</td>\n",
       "      <td>140</td>\n",
       "      <td>90</td>\n",
       "      <td>3</td>\n",
       "      <td>1</td>\n",
       "      <td>0</td>\n",
       "      <td>0</td>\n",
       "      <td>1</td>\n",
       "      <td>1</td>\n",
       "      <td>34.93</td>\n",
       "      <td>50</td>\n",
       "      <td>hypertension_2</td>\n",
       "      <td>obese</td>\n",
       "    </tr>\n",
       "    <tr>\n",
       "      <th>2</th>\n",
       "      <td>52</td>\n",
       "      <td>1</td>\n",
       "      <td>165</td>\n",
       "      <td>64.0</td>\n",
       "      <td>130</td>\n",
       "      <td>70</td>\n",
       "      <td>3</td>\n",
       "      <td>1</td>\n",
       "      <td>0</td>\n",
       "      <td>0</td>\n",
       "      <td>0</td>\n",
       "      <td>1</td>\n",
       "      <td>23.51</td>\n",
       "      <td>60</td>\n",
       "      <td>hypertension_1</td>\n",
       "      <td>normal</td>\n",
       "    </tr>\n",
       "    <tr>\n",
       "      <th>3</th>\n",
       "      <td>48</td>\n",
       "      <td>0</td>\n",
       "      <td>169</td>\n",
       "      <td>82.0</td>\n",
       "      <td>150</td>\n",
       "      <td>100</td>\n",
       "      <td>1</td>\n",
       "      <td>1</td>\n",
       "      <td>0</td>\n",
       "      <td>0</td>\n",
       "      <td>1</td>\n",
       "      <td>1</td>\n",
       "      <td>28.71</td>\n",
       "      <td>50</td>\n",
       "      <td>hypertension_2</td>\n",
       "      <td>overweight</td>\n",
       "    </tr>\n",
       "    <tr>\n",
       "      <th>4</th>\n",
       "      <td>48</td>\n",
       "      <td>1</td>\n",
       "      <td>156</td>\n",
       "      <td>56.0</td>\n",
       "      <td>100</td>\n",
       "      <td>60</td>\n",
       "      <td>1</td>\n",
       "      <td>1</td>\n",
       "      <td>0</td>\n",
       "      <td>0</td>\n",
       "      <td>0</td>\n",
       "      <td>0</td>\n",
       "      <td>23.01</td>\n",
       "      <td>40</td>\n",
       "      <td>normal</td>\n",
       "      <td>normal</td>\n",
       "    </tr>\n",
       "  </tbody>\n",
       "</table>\n",
       "</div>"
      ],
      "text/plain": [
       "    age  gender  height  weight  systolic  diastolic  cholesterol  gluc  \\\n",
       "id                                                                        \n",
       "0    50       0     168    62.0       110         80            1     1   \n",
       "1    55       1     156    85.0       140         90            3     1   \n",
       "2    52       1     165    64.0       130         70            3     1   \n",
       "3    48       0     169    82.0       150        100            1     1   \n",
       "4    48       1     156    56.0       100         60            1     1   \n",
       "\n",
       "    smoke  alco  active  cvd    bmi  pulse_pressure          bp_cat  \\\n",
       "id                                                                    \n",
       "0       0     0       1    0  21.97              30  hypertension_1   \n",
       "1       0     0       1    1  34.93              50  hypertension_2   \n",
       "2       0     0       0    1  23.51              60  hypertension_1   \n",
       "3       0     0       1    1  28.71              50  hypertension_2   \n",
       "4       0     0       0    0  23.01              40          normal   \n",
       "\n",
       "       bmi_cat  \n",
       "id              \n",
       "0       normal  \n",
       "1        obese  \n",
       "2       normal  \n",
       "3   overweight  \n",
       "4       normal  "
      ]
     },
     "execution_count": 87,
     "metadata": {},
     "output_type": "execute_result"
    }
   ],
   "source": [
    "get_bmi_cat = FunctionTransformer(func=to_bmi_cat)\n",
    "\n",
    "test_pipe = Pipeline(steps=[('get_year', get_year), \n",
    "                           ('get_gender', get_gender), \n",
    "                           ('get_bmi', get_bmi), \n",
    "                           ('get_pulse_pressure', get_pulse_pressure), \n",
    "                           ('get_bp_cat', get_bp_cat), \n",
    "                           ('get_bmi_cat', get_bmi_cat)])\n",
    "\n",
    "test_pipe.fit_transform(df_raw).head()"
   ]
  },
  {
   "cell_type": "markdown",
   "metadata": {},
   "source": [
    "### Plotting Frequency Plots for Various Features"
   ]
  },
  {
   "cell_type": "markdown",
   "metadata": {},
   "source": [
    "#### Viewing BMI Categories in Frequency Plot"
   ]
  },
  {
   "cell_type": "code",
   "execution_count": 84,
   "metadata": {
    "scrolled": false
   },
   "outputs": [
    {
     "data": {
      "image/png": "[encoded data removed]",
      "text/plain": [
       "<Figure size 504x432 with 1 Axes>"
      ]
     },
     "metadata": {},
     "output_type": "display_data"
    }
   ],
   "source": [
    "order = ['underweight', 'normal', 'overweight', 'obese']\n",
    "\n",
    "frequency_plot(df_clean, group='bmi_cat', target='cvd', order=order, \n",
    "              title='BMI Relationship to CVD', xlabel='BMI Categories')"
   ]
  },
  {
   "cell_type": "markdown",
   "metadata": {},
   "source": [
    "According to this graph, if a person is overweight or obese, they are more likely to have a CVD than a person who has a normal BMI. Underweight category is too small to really get anything from it. It seems like underweight is less likely to have a CVD, but we would need more datapoints in underweight to confirm that."
   ]
  },
  {
   "cell_type": "markdown",
   "metadata": {},
   "source": [
    "#### Viewing Glucose Categories in Frequency Plot"
   ]
  },
  {
   "cell_type": "code",
   "execution_count": 90,
   "metadata": {
    "scrolled": false
   },
   "outputs": [
    {
     "data": {
      "image/png": "[encoded data removed]",
      "text/plain": [
       "<Figure size 504x432 with 1 Axes>"
      ]
     },
     "metadata": {},
     "output_type": "display_data"
    }
   ],
   "source": [
    "frequency_plot(df_clean, group='gluc', target='cvd', \n",
    "               title='Glucose Categories and Prevalence of CVDs',\n",
    "              xlabel='Glucose Categories')"
   ]
  },
  {
   "cell_type": "code",
   "execution_count": 91,
   "metadata": {
    "scrolled": true
   },
   "outputs": [
    {
     "data": {
      "text/plain": [
       "1    59455\n",
       "3     5331\n",
       "2     5190\n",
       "Name: gluc, dtype: int64"
      ]
     },
     "execution_count": 91,
     "metadata": {},
     "output_type": "execute_result"
    }
   ],
   "source": [
    "df_clean['gluc'].value_counts()"
   ]
  },
  {
   "cell_type": "markdown",
   "metadata": {},
   "source": [
    "It seems that if a person has an above normal or very above normal glucose level (2 or 3), they may be more at risk of having a CVD when compared to a person who has a normal glucose level (1)."
   ]
  },
  {
   "cell_type": "markdown",
   "metadata": {},
   "source": [
    "#### Viewing Cholesterol Levels in Frequency Plot"
   ]
  },
  {
   "cell_type": "code",
   "execution_count": 88,
   "metadata": {},
   "outputs": [
    {
     "data": {
      "image/png": "[encoded data removed]",
      "text/plain": [
       "<Figure size 504x432 with 1 Axes>"
      ]
     },
     "metadata": {},
     "output_type": "display_data"
    }
   ],
   "source": [
    "frequency_plot(df_clean, group='cholesterol', target='cvd', \n",
    "               title='Cholesterol Levels and Prevalence of CVDs',\n",
    "              xlabel='Cholesterol Level')"
   ]
  },
  {
   "cell_type": "code",
   "execution_count": 89,
   "metadata": {
    "scrolled": true
   },
   "outputs": [
    {
     "data": {
      "text/plain": [
       "1    52361\n",
       "2     9549\n",
       "3     8066\n",
       "Name: cholesterol, dtype: int64"
      ]
     },
     "execution_count": 89,
     "metadata": {},
     "output_type": "execute_result"
    }
   ],
   "source": [
    "df_clean['cholesterol'].value_counts()"
   ]
  },
  {
   "cell_type": "markdown",
   "metadata": {},
   "source": [
    "The higher the cholesterol level, the more common we find CVD's in patients."
   ]
  },
  {
   "cell_type": "markdown",
   "metadata": {},
   "source": [
    "#### Viewing Binary Categories"
   ]
  },
  {
   "cell_type": "code",
   "execution_count": 92,
   "metadata": {
    "scrolled": true
   },
   "outputs": [
    {
     "data": {
      "image/png": "[encoded data removed]",
      "text/plain": [
       "<Figure size 1152x360 with 3 Axes>"
      ]
     },
     "metadata": {},
     "output_type": "display_data"
    }
   ],
   "source": [
    "plt.figure(figsize=(16, 5))\n",
    "\n",
    "plt.subplot(1, 3, 1)\n",
    "sns.countplot(data=df_clean, x='smoke', hue='cvd')\n",
    "plt.title('Prevalence of CVD in Smokers/non-Smokers')\n",
    "\n",
    "plt.subplot(1, 3, 2)\n",
    "sns.countplot(data=df_clean, x='active', hue='cvd')\n",
    "plt.title('Prevalence of CVD in Active/non-Active')\n",
    "\n",
    "plt.subplot(1, 3, 3)\n",
    "sns.countplot(data=df_clean, x='alco', hue='cvd')\n",
    "plt.title('Prevalence of CVD in Drinkers/non-drinkers');"
   ]
  },
  {
   "cell_type": "markdown",
   "metadata": {},
   "source": [
    "According to these graphs, it seems that smoking and drinking do not play a factor in increasing the risk of getting a cardiovascular disease.\n",
    "\n",
    "We must also take into account that these columns are subjective and also are only boolean values. For example, someone who drinks multiple glasses every night versus someone who drinks 2-3 glasses a week are still classified as a drinker, yet their risk of having a CVD may be different. "
   ]
  },
  {
   "cell_type": "markdown",
   "metadata": {},
   "source": [
    "#### Binning Age into Decades"
   ]
  },
  {
   "cell_type": "code",
   "execution_count": null,
   "metadata": {},
   "outputs": [],
   "source": [
    "df_clean['age_by_decade'] = pd.cut(x=df_clean['age'], \n",
    "                                   bins=[30, 39, 49, 59, 69], \n",
    "                                   labels=['30s', '40s', '50s', '60s'], \n",
    "                                  include_lowest=True)"
   ]
  },
  {
   "cell_type": "code",
   "execution_count": null,
   "metadata": {
    "scrolled": true
   },
   "outputs": [],
   "source": [
    "df_clean.head(3)"
   ]
  },
  {
   "cell_type": "code",
   "execution_count": null,
   "metadata": {},
   "outputs": [],
   "source": [
    "df_clean['age_by_decade'].value_counts()"
   ]
  },
  {
   "cell_type": "code",
   "execution_count": null,
   "metadata": {},
   "outputs": [],
   "source": [
    "order = ['30s', '40s', '50s', '60s']\n",
    "\n",
    "frequency_plot(df_clean, 'age_by_decade', 'cvd', order=order, \n",
    "              title='Age & Presence of CVDs', xlabel='Age Categories')"
   ]
  },
  {
   "cell_type": "markdown",
   "metadata": {},
   "source": [
    "It looks like as age increases, so does the likelihood of having a Cardiovascular Disease."
   ]
  },
  {
   "cell_type": "code",
   "execution_count": null,
   "metadata": {
    "scrolled": true
   },
   "outputs": [],
   "source": [
    "fig, ax = plt.subplots()\n",
    "ax = sns.countplot(x='gender', hue='cvd', data=df_clean)\n",
    "ax.set_title('Presence of CVD in Gender')\n",
    "plt.show();"
   ]
  },
  {
   "cell_type": "code",
   "execution_count": null,
   "metadata": {},
   "outputs": [],
   "source": [
    "plt.figure(figsize=(12, 4))\n",
    "\n",
    "plt.subplot(1, 2, 1)\n",
    "sns.countplot(data=df_clean[df_clean['gender'] == 0], x='age_by_decade', \n",
    "              hue='cvd')\n",
    "plt.title('Gender 0')\n",
    "\n",
    "plt.subplot(1, 2, 2)\n",
    "sns.countplot(data=df_clean[df_clean['gender'] == 1], x='age_by_decade',\n",
    "              hue='cvd')\n",
    "plt.title('Gender 1');"
   ]
  },
  {
   "cell_type": "markdown",
   "metadata": {},
   "source": [
    "According to Rosano, Vitale, Marazzi and Volterrani, \"Menopause is a risk factor for cardiovascular disease (CVD) because estrogen withdrawal has a detrimental effect on cardiovascular function and metabolism.\" The average age range is around 40's to 50's. After menopause women are just as likely to develop a CVD as men of the same age.\n",
    "\n",
    "If I had to guess which gender was for women based on this graph, I would have to go with Gender 1. However, both of these graphs are very similar to one another, so it's hard to determine which is which."
   ]
  },
  {
   "cell_type": "code",
   "execution_count": null,
   "metadata": {
    "scrolled": true
   },
   "outputs": [],
   "source": [
    "# Creating a dataframe containing the correlated values of each feature based on it's relationship \n",
    "# with our dependent variable, 'cvd'\n",
    "df_importance = pd.DataFrame(df_clean.corr()['cvd']).\\\n",
    "                sort_values(by='cvd',ascending=False)"
   ]
  },
  {
   "cell_type": "code",
   "execution_count": null,
   "metadata": {},
   "outputs": [],
   "source": [
    "# Plotting the correlations in a barplot\n",
    "df_importance.plot(kind='barh');"
   ]
  },
  {
   "cell_type": "markdown",
   "metadata": {},
   "source": [
    "Through correlation, we see that age, cholesterol level, weight, bmi, glucose level, diastolic, and systolic are all significant when predicting if someone may have a CVD.\n",
    "Active may be significant in helping prevent the chance of developing a CVD."
   ]
  },
  {
   "cell_type": "markdown",
   "metadata": {},
   "source": [
    "## Inspecting Outliers"
   ]
  },
  {
   "cell_type": "code",
   "execution_count": null,
   "metadata": {},
   "outputs": [],
   "source": [
    "# Converting height min/max values in centimeters to feet to get an idea of what\n",
    "# I'm dealing with\n",
    "height_min = ((df_clean['height'].describe()['min'] / 2.54) / 12).round(2)\n",
    "height_max = ((df_clean['height'].describe()['max'] / 2.54) / 12).round(2)\n",
    "print(f\"min height: {height_min} ft\\nmax height: {height_max} ft\")\n"
   ]
  },
  {
   "cell_type": "code",
   "execution_count": null,
   "metadata": {},
   "outputs": [],
   "source": [
    "weight_min = df_clean['weight'].describe()['min'] * 2.205\n",
    "weight_max = df_clean['weight'].describe()['max'] * 2.205\n",
    "print(f\"min weight: {weight_min} lbs\\nmax weight: {weight_max} lbs\")"
   ]
  },
  {
   "cell_type": "markdown",
   "metadata": {},
   "source": [
    "#### There seem to be a lot of major outliers present in columns: \n",
    "- height\n",
    "- weight\n",
    "- systolic\n",
    "- diastolic\n",
    "\n",
    "(bmi and pulse_pressure also have outliers, but we made those columns using the above columns)"
   ]
  },
  {
   "cell_type": "code",
   "execution_count": null,
   "metadata": {},
   "outputs": [],
   "source": [
    "def iqr_outliers(df, col, extreme=0):\n",
    "    \"\"\"\n",
    "    Definition:\n",
    "    Used to identify outliers based on defined IQR range (either 1.5 or 3 for \n",
    "    extreme outliers)\n",
    "    \n",
    "    Args:\n",
    "    df = dataframe\n",
    "    col = column of dataframe\n",
    "    extreme = boolean value. If 1, will use extreme outlier calculation\n",
    "    \"\"\"\n",
    "    \n",
    "    twenty_five = df[col].quantile(0.25)\n",
    "    seventy_five = df[col].quantile(0.75)\n",
    "    iqr = seventy_five - twenty_five\n",
    "    if extreme == 0:\n",
    "        lower = twenty_five - 1.5 * iqr\n",
    "        upper = seventy_five + 1.5 * iqr\n",
    "    else:\n",
    "        lower = twenty_five - 3 * iqr\n",
    "        upper = seventy_five + 3 * iqr\n",
    "    return [lower, upper]"
   ]
  },
  {
   "cell_type": "code",
   "execution_count": null,
   "metadata": {
    "scrolled": true
   },
   "outputs": [],
   "source": [
    "col_w_outliers = ['height', 'weight', 'systolic', \n",
    "                  'diastolic', 'bmi', 'pulse_pressure']\n",
    "dashes = '----'\n",
    "print(\"Lower and Upper Bounds for Extreme Outliers:\")\n",
    "print(f\"{dashes*11}\\n{dashes*11}\")\n",
    "for col in col_w_outliers:\n",
    "    print(f\"{col}: {np.round(iqr_outliers(df_clean, col, 1), 4)}\")\n",
    "print(dashes*11)"
   ]
  },
  {
   "cell_type": "code",
   "execution_count": null,
   "metadata": {
    "scrolled": false
   },
   "outputs": [],
   "source": [
    "df_clean.describe()"
   ]
  },
  {
   "cell_type": "markdown",
   "metadata": {},
   "source": [
    "- systolic and diastolic pressures cannot be negative\n",
    "- systolic pressure will always be greater in value than diastolic pressure, therefore we cannot have a negative pulse pressure."
   ]
  },
  {
   "cell_type": "code",
   "execution_count": null,
   "metadata": {},
   "outputs": [],
   "source": [
    "(df_clean['systolic'] < 1).sum()"
   ]
  },
  {
   "cell_type": "code",
   "execution_count": null,
   "metadata": {},
   "outputs": [],
   "source": [
    "df_clean[df_clean['systolic'] < 1]"
   ]
  },
  {
   "cell_type": "markdown",
   "metadata": {},
   "source": [
    "These values for systolic pressure seem to be reasonable if we were to convert them into positive values."
   ]
  },
  {
   "cell_type": "code",
   "execution_count": null,
   "metadata": {},
   "outputs": [],
   "source": [
    "df_clean['systolic'] = df_clean['systolic'].abs()"
   ]
  },
  {
   "cell_type": "code",
   "execution_count": null,
   "metadata": {
    "scrolled": true
   },
   "outputs": [],
   "source": [
    "(df_clean['diastolic'] < 1).sum()"
   ]
  },
  {
   "cell_type": "code",
   "execution_count": null,
   "metadata": {
    "scrolled": false
   },
   "outputs": [],
   "source": [
    "df_clean[df_clean['diastolic'] < 1]"
   ]
  },
  {
   "cell_type": "markdown",
   "metadata": {},
   "source": [
    "These values don't seem reasonable. Diastolic pressure cannot have a value of 0. We should drop these rows if we plan on using this dataset with models that are sensitive to outliers."
   ]
  },
  {
   "cell_type": "code",
   "execution_count": null,
   "metadata": {},
   "outputs": [],
   "source": [
    "df_clean['diastolic'] = df_clean['diastolic'].abs()"
   ]
  },
  {
   "cell_type": "code",
   "execution_count": null,
   "metadata": {
    "scrolled": false
   },
   "outputs": [],
   "source": [
    "(df_clean['systolic'] < df_clean['diastolic']).sum()"
   ]
  },
  {
   "cell_type": "markdown",
   "metadata": {},
   "source": [
    "systolic pressure cannot be less than diastolic pressure. We should drop these rows as well if using outlier-sensitive models."
   ]
  },
  {
   "cell_type": "code",
   "execution_count": null,
   "metadata": {},
   "outputs": [],
   "source": [
    "def diagnostics(df, col):\n",
    "    plt.figure(figsize=(12, 3))\n",
    "    \n",
    "    plt.subplot(1, 3, 1)\n",
    "    sns.histplot(df[col], bins=20, kde=True)\n",
    "    plt.title(f'Histogram for {col}')\n",
    "    \n",
    "    plt.subplot(1, 3, 2)\n",
    "    stats.probplot(df[col], dist='norm', plot=plt)\n",
    "    plt.ylabel('Quantiles')\n",
    "    plt.title(f'QQ Plot for {col}')\n",
    "    \n",
    "    plt.subplot(1, 3, 3)\n",
    "    sns.boxplot(y=df[col])\n",
    "    plt.title(f'Boxplot for {col}')    \n",
    "    plt.show()\n",
    "    "
   ]
  },
  {
   "cell_type": "code",
   "execution_count": null,
   "metadata": {
    "scrolled": false
   },
   "outputs": [],
   "source": [
    "diagnostics(df_clean, 'diastolic')"
   ]
  },
  {
   "cell_type": "markdown",
   "metadata": {},
   "source": [
    "Diastolic is heavily skewed with many outliers on the right tail."
   ]
  },
  {
   "cell_type": "code",
   "execution_count": null,
   "metadata": {
    "scrolled": true
   },
   "outputs": [],
   "source": [
    "diagnostics(df_clean, 'systolic')"
   ]
  },
  {
   "cell_type": "markdown",
   "metadata": {},
   "source": [
    "Systolic is also heavily skewed with many outliers on the right tail."
   ]
  },
  {
   "cell_type": "code",
   "execution_count": null,
   "metadata": {
    "scrolled": false
   },
   "outputs": [],
   "source": [
    "diagnostics(df_clean, 'height')"
   ]
  },
  {
   "cell_type": "markdown",
   "metadata": {},
   "source": [
    "Height seems to have bigger tails with outliers on both sides. Skewed left."
   ]
  },
  {
   "cell_type": "code",
   "execution_count": null,
   "metadata": {},
   "outputs": [],
   "source": [
    "diagnostics(df_clean, 'weight')"
   ]
  },
  {
   "cell_type": "markdown",
   "metadata": {},
   "source": [
    "Weight is slightly skewed right with some outliers on both ends."
   ]
  },
  {
   "cell_type": "markdown",
   "metadata": {},
   "source": [
    "We are going to be setting filters on our dataset for systolic and diastolic. According to Narloch and Brandstater, the highest Blood Pressure ever recorded was 370/360. This was also during an intense excerise. This is an extremely high blood pressure, and can be considered an excessively safe limitation for our dataset. (Narloch & Brandstater, 1995)\n"
   ]
  },
  {
   "cell_type": "code",
   "execution_count": null,
   "metadata": {},
   "outputs": [],
   "source": [
    "df_clean = df_clean[(df_clean['systolic'] >= 1) & (df_clean['systolic'] <= 370)]"
   ]
  },
  {
   "cell_type": "code",
   "execution_count": null,
   "metadata": {},
   "outputs": [],
   "source": [
    "df_clean = df_clean[(df_clean['diastolic'] >= 1) & (df_clean['diastolic'] <= 360)]"
   ]
  },
  {
   "cell_type": "code",
   "execution_count": null,
   "metadata": {},
   "outputs": [],
   "source": [
    "df_clean = df_clean[df_clean['pulse_pressure'] > 0]"
   ]
  },
  {
   "cell_type": "code",
   "execution_count": null,
   "metadata": {
    "scrolled": false
   },
   "outputs": [],
   "source": [
    "diagnostics(df_clean, 'systolic')"
   ]
  },
  {
   "cell_type": "code",
   "execution_count": null,
   "metadata": {
    "scrolled": true
   },
   "outputs": [],
   "source": [
    "diagnostics(df_clean, 'diastolic')"
   ]
  },
  {
   "cell_type": "code",
   "execution_count": null,
   "metadata": {
    "scrolled": true
   },
   "outputs": [],
   "source": [
    "diagnostics(df_clean, 'pulse_pressure')"
   ]
  },
  {
   "cell_type": "code",
   "execution_count": null,
   "metadata": {
    "scrolled": true
   },
   "outputs": [],
   "source": [
    "# Comparing genders and their prevalence of having a CVD\n",
    "sns.barplot(x='active', data=df_clean, y='cvd', hue='gender');"
   ]
  },
  {
   "cell_type": "code",
   "execution_count": null,
   "metadata": {
    "scrolled": false
   },
   "outputs": [],
   "source": [
    "sns.violinplot(x='gender', y='weight', data=df_clean)"
   ]
  },
  {
   "cell_type": "markdown",
   "metadata": {},
   "source": [
    "## Viewing Difference of Columns When Comparing CVD"
   ]
  },
  {
   "cell_type": "code",
   "execution_count": null,
   "metadata": {
    "scrolled": false
   },
   "outputs": [],
   "source": [
    "# Using the cut_df to better inspect the difference w/o interference of outliers\n",
    "for item in ['age', 'height', 'weight', 'systolic', 'diastolic', 'bmi', \n",
    "              'pulse_pressure']:\n",
    "    sns.displot(kind='kde', data=df_clean, x=item, hue=\"cvd\")"
   ]
  },
  {
   "cell_type": "markdown",
   "metadata": {},
   "source": [
    "We are inspecting each of the numerical columns to see the relationship between the column and the Presence of a CVD. For height, there seems to be no major difference in the distribution for people with and without a CVD. Therefore, we can safely remove this column when working with our models."
   ]
  },
  {
   "cell_type": "code",
   "execution_count": null,
   "metadata": {},
   "outputs": [],
   "source": [
    "# Saving our df_clean\n",
    "with open('df_clean.pickle', 'wb') as f:\n",
    "    pickle.dump(df_clean, f, pickle.HIGHEST_PROTOCOL)"
   ]
  },
  {
   "cell_type": "code",
   "execution_count": null,
   "metadata": {},
   "outputs": [],
   "source": [
    "# Loading our df_clean\n",
    "with open('df_clean.pickle', 'rb') as f:\n",
    "    df_clean = pickle.load(f)"
   ]
  },
  {
   "cell_type": "code",
   "execution_count": null,
   "metadata": {},
   "outputs": [],
   "source": [
    "df_clean.head(3)"
   ]
  },
  {
   "cell_type": "markdown",
   "metadata": {},
   "source": [
    "## Train-Test Split"
   ]
  },
  {
   "cell_type": "code",
   "execution_count": null,
   "metadata": {},
   "outputs": [],
   "source": [
    "# Standard - for pipelined models\n",
    "X = df_clean.drop(['cvd', 'height'], axis=1) #Dropping height, not significant\n",
    "y = df_clean['cvd']"
   ]
  },
  {
   "cell_type": "code",
   "execution_count": null,
   "metadata": {},
   "outputs": [],
   "source": [
    "X_train, X_test, y_train, y_test = train_test_split(X, y, test_size=0.20, \n",
    "                                                   random_state=42)"
   ]
  },
  {
   "cell_type": "code",
   "execution_count": null,
   "metadata": {},
   "outputs": [],
   "source": [
    "pd.Series(y_test).value_counts(normalize=True)"
   ]
  },
  {
   "cell_type": "code",
   "execution_count": null,
   "metadata": {
    "scrolled": true
   },
   "outputs": [],
   "source": [
    "print(f\"X_train shape: {X_train.shape}\\nX_test shape: {X_test.shape}\")"
   ]
  },
  {
   "cell_type": "markdown",
   "metadata": {},
   "source": [
    "# Modeling"
   ]
  },
  {
   "cell_type": "markdown",
   "metadata": {},
   "source": [
    "#### Defining Functions"
   ]
  },
  {
   "cell_type": "code",
   "execution_count": null,
   "metadata": {},
   "outputs": [],
   "source": [
    "def evaluate_classification(model,X_test,y_test,X_train, y_train, classes=None,\n",
    "                           normalize='true',cmap='Reds',label='', \n",
    "                           preprocessed=0):\n",
    "    \n",
    "    \"\"\"\n",
    "    Definition:\n",
    "    Accepts an sklearn-compatible classification model, train data, and test data \n",
    "    and displays several sklearn.metrics functions: \n",
    "    - classification_report\n",
    "    - plot_confusion_matrix\n",
    "    - plot_roc_curve\n",
    "    - plots top 10 important features for each model (Not including KNN and SVM)\n",
    "    \n",
    "    Args:\n",
    "    model: type of machine learning model you want to use\n",
    "    X_test, y_test, X_train, y_train: self_explanatory\n",
    "    classes: default = 'None'. Used in classification_report and \n",
    "    plot_confusion_matrix. \n",
    "    normalize: default = 'true'. Normalizes the values in the \n",
    "    plot_confusion_matrix function.\n",
    "    cmap: default = 'Reds'. Specifies the palette used in plot_confusion_matrix\n",
    "    label: default = ''. Used in the title for the Classification Report\n",
    "    return_dict: default = 0. If 1, can return a dict containing the \n",
    "    classification_report values.\n",
    "    preprocessed: default = 0. If 1, assumes the model has been preprocessed, and will attempt\n",
    "    to graph out the model's feature importances.\n",
    "    \n",
    "    Returns:\n",
    "    Plots a confusion matrix, ROC curve, feature importance graph, \n",
    "    and train and test scores\n",
    "    Can also return a report dictionary (report_dict = 1).\n",
    "    \"\"\"\n",
    "     \n",
    "    ## Get Predictions\n",
    "    y_hat_test = model.predict(X_test)\n",
    "    \n",
    "    \n",
    "    ## Basic Header \n",
    "    table_header = \"             [i] CLASSIFICATION REPORT\"\n",
    "    \n",
    "    ## Add Label to Basic Header if given\n",
    "    if len(label)>0:\n",
    "        table_header += f\" for {label.upper()}\"\n",
    "        \n",
    "    \n",
    "    ## Classification Report\n",
    "    dashes = '---'*20\n",
    "    print(dashes,dashes,table_header,dashes,sep='\\n')\n",
    "\n",
    "    print(cls_report(y_test,y_hat_test,\n",
    "                                    target_names=classes))\n",
    "    \n",
    "    print(dashes, dashes, sep='\\n')\n",
    "\n",
    "    # displays the accuracy for train and test\n",
    "    train_score = model.score(X_train, y_train)\n",
    "    test_score = model.score(X_test, y_test)\n",
    "    \n",
    "    print(f\"Training data score: {train_score}\\nTest data score: {test_score}\")\n",
    "    print(f\"{dashes}\\n\")\n",
    "    # Will print \"overfitting\" if model may be overfitting\n",
    "    if train_score - test_score >= 0.05:\n",
    "        print('Model may be Overfitting')\n",
    "\n",
    "    ## PLotting figures\n",
    "    fig, axes = plt.subplots(figsize=(10,4),ncols=2)\n",
    "    \n",
    "    ## Plot Confusion Matrix on first ax\n",
    "    plot_confusion_matrix(model, X_test,y_test,\n",
    "                                  display_labels=classes,\n",
    "                                  normalize=normalize,\n",
    "                                 cmap=cmap,ax=axes[0])\n",
    "    axes[0].set(title='Confusion Matrix')\n",
    "    \n",
    "    ## Plot Roc Curve on second ax\n",
    "    roc_plot = plot_roc_curve(model, X_test, y_test,ax=axes[1])\n",
    "    axes[1].legend()\n",
    "    # Threshold line\n",
    "    axes[1].plot([0,1],[0,1],ls=':')\n",
    "    axes[1].grid()\n",
    "    axes[1].set_title('ROC Curve') \n",
    "    \n",
    "    # If data is preprocessed and not a 'knn' 'or svm' Classifier, this will print\n",
    "    # a list of top ten important features for the model.\n",
    "    if preprocessed: \n",
    "        if (label != 'knn') & (label != 'svm'):\n",
    "\n",
    "            categ_cols = model.named_steps['preprocesser'].named_transformers_['cat'].\\\n",
    "                            named_steps['encoder'].get_feature_names(cat_cols).tolist()\n",
    "\n",
    "            feature_names = num_cols + categ_cols\n",
    "\n",
    "            important_feats = pd.Series(model.named_steps[label].feature_importances_,\n",
    "                                       index=feature_names)\n",
    "            top_feats = important_feats.sort_values(ascending=False).head(10)\n",
    "            plt.figure(figsize=(5, 5))\n",
    "            top_feats.sort_values().plot(kind='barh')\n",
    "            plt.title(f'Most Important Features for {label.upper()}')\n",
    "            plt.xlabel('Level of Importance')\n",
    "            plt.ylabel('Features');\n",
    "\n",
    "    fig.tight_layout()\n",
    "    plt.show()"
   ]
  },
  {
   "cell_type": "code",
   "execution_count": null,
   "metadata": {},
   "outputs": [],
   "source": [
    "def model_search(model, param_grid, X_train, y_train, X_test, \n",
    "                y_test, search='random', scoring='recall', classes=None,\n",
    "                normalize='true',cmap='Reds',label='', return_dict=0, n_iter=50, \n",
    "                preprocessed=0, get_model=1, get_grid=0):\n",
    "    \"\"\"\n",
    "    Definition:\n",
    "    Allows you to specify what type of search you want to use on \n",
    "    your classification model (randomized or grid). Then takes the model, tunes \n",
    "    it based on the scoring parameter you apply, and puts it in the \n",
    "    evaluate_classification function.\n",
    "        \n",
    "    Args:\n",
    "    model: type of machine learning model you want to use\n",
    "    param_grid: parameter grid for search to use on the model\n",
    "    X_train, y_train, X_test, y_test: self-explanatory\n",
    "    search: default = 'random'. Can also be set to 'grid'\n",
    "    scoring: default = 'recall'. Can be set to multiple other scoring types.\n",
    "    classes: default = 'None'. Used in the classification_report and \n",
    "    plot_confusion matrix in evaluate_classification function.\n",
    "    normalize: default = 'true'. Used in the plot_confusion_matrix in \n",
    "    evaluate_classification function.\n",
    "    cmap: default = 'Reds'. Used in the plot_confusion_matrix in \n",
    "    evaluate_classification function.\n",
    "    label: default = ''. Used in evaluate_classification function\n",
    "    return_dict: default = 0. Used in evaluate_classification function\n",
    "    n_iter: default = 50. Used if the type of search is 'random'\n",
    "    \n",
    "    Returns:\n",
    "    plots a confusion matrix, ROC curve, train and test scores. Also shows the\n",
    "    amount of time it took to run the function. Can also return a dict of the\n",
    "    classification_report.\n",
    "    \"\"\"\n",
    "    #Grid search template\n",
    "    if search == 'grid':\n",
    "        start = time.time()\n",
    "\n",
    "        clf = GridSearchCV(model, param_grid=param_grid,scoring=scoring, cv=3)\n",
    "        clf.fit(X_train, y_train)\n",
    "        print(clf.best_params_)\n",
    "\n",
    "        finish = time.time()\n",
    "        print(f\"Time to run program: {np.round((finish - start)/60, 2)} min\")\n",
    "        \n",
    "    #Randomized Search Template\n",
    "    else:\n",
    "        start = time.time()\n",
    "\n",
    "        clf = RandomizedSearchCV(model, param_distributions=param_grid, \n",
    "                                      n_iter=n_iter, scoring=scoring)\n",
    "        clf.fit(X_train, y_train)\n",
    "        print(clf.best_params_)\n",
    "\n",
    "        finish = time.time()\n",
    "        print(f\"Time to run program: {np.round((finish - start)/60, 2)} min\")\n",
    "        \n",
    "    \n",
    "        \n",
    "    eval_class = evaluate_classification(clf.best_estimator_, X_test, y_test,\n",
    "                            X_train, y_train, classes=classes, normalize=normalize, \n",
    "                            cmap=cmap, label=label, preprocessed=preprocessed)\n",
    "\n",
    "    if get_grid:\n",
    "        if get_model:\n",
    "            return clf, clf.best_estimator_\n",
    "        else:\n",
    "            return clf\n",
    "    elif get_model:\n",
    "        return clf.best_estimator_"
   ]
  },
  {
   "cell_type": "markdown",
   "metadata": {},
   "source": [
    "### Baseline Model using DummyClassifier"
   ]
  },
  {
   "cell_type": "code",
   "execution_count": null,
   "metadata": {},
   "outputs": [],
   "source": [
    "#Creating a DummyClassifier and targeting the non-majority label in CVD (1)\n",
    "dummy = DummyClassifier()"
   ]
  },
  {
   "cell_type": "code",
   "execution_count": null,
   "metadata": {},
   "outputs": [],
   "source": [
    "# Fitting the Classifier to our training data and using predict to make sure we\n",
    "# are targeting what we want to target\n",
    "dummy.fit(X_train, y_train)\n",
    "y_pred = dummy.predict(X_test)"
   ]
  },
  {
   "cell_type": "code",
   "execution_count": null,
   "metadata": {
    "scrolled": true
   },
   "outputs": [],
   "source": [
    "# Classification report\n",
    "print(f\"Accuracy: {round(dummy.score(X_test, y_test), 4)}\")\n",
    "print(cls_report(y_test, y_pred))\n",
    "\n",
    "evaluate_classification(dummy, X_test, y_test, X_train, y_train, label='Dummy')"
   ]
  },
  {
   "cell_type": "markdown",
   "metadata": {},
   "source": [
    "Our Baseline Model has an accuracy of around 50%, which is as good as flipping a coin. We also need to keep in mind that because our classes are extremely balanced, it would be hard to have an accuracy lower than 50%. Since we are trying to classify the best risk and protective factors when determining who has a Cardiovascular Disease, we need to make a model that's more accurate than this."
   ]
  },
  {
   "cell_type": "markdown",
   "metadata": {},
   "source": [
    "### Iterating through our Vanilla Pipelined Models"
   ]
  },
  {
   "cell_type": "code",
   "execution_count": null,
   "metadata": {},
   "outputs": [],
   "source": [
    "# Numerical Transformer for KNN and SVC\n",
    "num_transformer_1 = Pipeline(steps=[\n",
    "                ('imputer', SimpleImputer(strategy='median')),\n",
    "                ('scale', StandardScaler())])"
   ]
  },
  {
   "cell_type": "code",
   "execution_count": null,
   "metadata": {},
   "outputs": [],
   "source": [
    "# For Trees and XGBoost\n",
    "num_transformer_2 = Pipeline(steps=[\n",
    "                ('imputer', SimpleImputer(strategy='median'))])"
   ]
  },
  {
   "cell_type": "code",
   "execution_count": null,
   "metadata": {},
   "outputs": [],
   "source": [
    "# Categorical Transformer\n",
    "cat_transformer = Pipeline(steps=[\n",
    "                ('imputer', SimpleImputer(strategy='constant', \n",
    "                                          fill_value='missing')),\n",
    "                ('encoder', OneHotEncoder(handle_unknown='ignore', sparse=False))])"
   ]
  },
  {
   "cell_type": "code",
   "execution_count": null,
   "metadata": {},
   "outputs": [],
   "source": [
    "# Column Names\n",
    "num_cols = ['age', 'weight', 'systolic', 'diastolic', 'bmi', 'pulse_pressure', \n",
    "            'gluc', 'cholesterol']\n",
    "cat_cols = ['gender', 'smoke', 'alco', 'active', 'bp_cat', 'bmi_cat', \n",
    "            'age_by_decade']"
   ]
  },
  {
   "cell_type": "code",
   "execution_count": null,
   "metadata": {},
   "outputs": [],
   "source": [
    "# Combining Numerical and Categorical Transformer\n",
    "# For KNN and SVC\n",
    "preprocess_1 = ColumnTransformer(transformers=[\n",
    "                        ('num', num_transformer_1, num_cols), \n",
    "                        ('cat', cat_transformer, cat_cols)])"
   ]
  },
  {
   "cell_type": "code",
   "execution_count": null,
   "metadata": {},
   "outputs": [],
   "source": [
    "# For Trees and XGBoost\n",
    "preprocess_2 = ColumnTransformer(transformers=[\n",
    "                        ('num', num_transformer_2, num_cols), \n",
    "                        ('cat', cat_transformer, cat_cols)])"
   ]
  },
  {
   "cell_type": "code",
   "execution_count": null,
   "metadata": {},
   "outputs": [],
   "source": [
    "# A list of tuples containing our model names and the models\n",
    "# contains models that need to be scaled\n",
    "models_1 = [('knn',KNeighborsClassifier), \n",
    "          ('svm', svm.SVC)]"
   ]
  },
  {
   "cell_type": "code",
   "execution_count": null,
   "metadata": {},
   "outputs": [],
   "source": [
    "# A list of tuples containing our model names and the models\n",
    "# contains models that do not need to be scaled\n",
    "models_2 = [('tree',DecisionTreeClassifier), \n",
    "          ('rf',RandomForestClassifier),\n",
    "          ('xgb',xgb.XGBClassifier)]"
   ]
  },
  {
   "cell_type": "code",
   "execution_count": null,
   "metadata": {},
   "outputs": [],
   "source": [
    "# Putting our models into a dictionary\n",
    "multi_pipes = {}\n",
    "\n",
    "# putting our models that need to be scaled into the dictionary\n",
    "for name, model in models_1:\n",
    "    multi_pipes[name] = Pipeline(steps=[\n",
    "                            ('preprocesser', preprocess_1), \n",
    "                            (name, model())])"
   ]
  },
  {
   "cell_type": "code",
   "execution_count": null,
   "metadata": {},
   "outputs": [],
   "source": [
    "# putting our models that don't need to be scaled into the dictionary\n",
    "for name, model in models_2:\n",
    "    multi_pipes[name] = Pipeline(steps=[('preprocesser', preprocess_2), \n",
    "                                        (name, model())])"
   ]
  },
  {
   "cell_type": "code",
   "execution_count": null,
   "metadata": {
    "scrolled": false
   },
   "outputs": [],
   "source": [
    "with sklearn.config_context(display='diagram'):\n",
    "    for pipe in multi_pipes:\n",
    "        display(multi_pipes[pipe])"
   ]
  },
  {
   "cell_type": "code",
   "execution_count": null,
   "metadata": {
    "code_folding": [],
    "scrolled": false
   },
   "outputs": [],
   "source": [
    "# Evaluating Vanilla models through our multi_pipe dictionary\n",
    "for key, pipe in multi_pipes.items():\n",
    "    pipe.fit(X_train, y_train)\n",
    "    evaluate_classification(pipe, X_test, y_test,\n",
    "                            X_train, y_train, label=key, preprocessed=1)"
   ]
  },
  {
   "cell_type": "markdown",
   "metadata": {},
   "source": [
    "### Answer for Question 1:"
   ]
  },
  {
   "cell_type": "markdown",
   "metadata": {},
   "source": [
    "Out of all of our vanilla models we've run through so far, it seems that XGBoost is performing the best in terms of accuracy, with our SVM model right behind, and our RandomForest model in third. Our Decision Tree, Random Forest, and KNN models are all overfitting. \n",
    "\n",
    "- XGBoostClassifier and SVClassifier are performing 45% better than our Baseline model's accuracy.\n",
    "\n",
    "- RandomForestClassifier is performing 40% better compared to our Baseline model's accuracy.\n",
    "\n",
    "We will work on the following models to fine tune using RandomizedSearch and GridSearch:\n",
    "\n",
    "- RandomForestClassifier\n",
    "- SVClassifier\n",
    "- XGBoostClassifier"
   ]
  },
  {
   "cell_type": "markdown",
   "metadata": {},
   "source": [
    "## Using GridSearch to hone in on best parameters"
   ]
  },
  {
   "cell_type": "markdown",
   "metadata": {},
   "source": [
    "### Random Forest"
   ]
  },
  {
   "cell_type": "code",
   "execution_count": null,
   "metadata": {},
   "outputs": [],
   "source": [
    "#Using this to view the params inside RandomForestClassifier()\n",
    "RandomForestClassifier()"
   ]
  },
  {
   "cell_type": "code",
   "execution_count": null,
   "metadata": {
    "scrolled": true
   },
   "outputs": [],
   "source": [
    "with sklearn.config_context(display='diagram'):\n",
    "    display(multi_pipes['rf'].named_steps['rf'])"
   ]
  },
  {
   "cell_type": "code",
   "execution_count": null,
   "metadata": {},
   "outputs": [],
   "source": [
    "# grid of the parameters we are searching through to find the optimal model\n",
    "param_grid = {\n",
    "    'rf__n_estimators' : [300], # 100\n",
    "    'rf__criterion': ['entropy'], # 'gini'\n",
    "    'rf__max_depth': [None, 9, 15, 25], # 9, 15\n",
    "    'rf__min_samples_split': [100, 200], #2, 50, 300  \n",
    "    'rf__min_samples_leaf': [5, 25, 50], # 1, 3\n",
    "    'rf__max_features': [None, 10, 15], #20\n",
    "    'rf__bootstrap' : [True],\n",
    "    'rf__oob_score': [True]\n",
    "}"
   ]
  },
  {
   "cell_type": "code",
   "execution_count": null,
   "metadata": {
    "scrolled": false
   },
   "outputs": [],
   "source": [
    "best_rf = model_search(multi_pipes['rf'], param_grid, X_train, y_train, \n",
    "                             X_test, y_test, label='rf', search='grid', \n",
    "                             preprocessed=1, scoring='accuracy')"
   ]
  },
  {
   "cell_type": "markdown",
   "metadata": {},
   "source": [
    "The most significant factors our tuned RandomForestClassifier model found were:\n",
    "\n",
    "- systolic pressure\n",
    "- diastolic pressure\n",
    "- pulse pressure\n",
    "- age\n",
    "- cholesterol\n",
    "- bmi"
   ]
  },
  {
   "cell_type": "code",
   "execution_count": null,
   "metadata": {},
   "outputs": [],
   "source": [
    "def pickling(name, model=None, task='save'):\n",
    "    \"\"\"\n",
    "    Definition:\n",
    "    Save or load a model using pickle\n",
    "    \n",
    "    Args:\n",
    "    name: name you wish to save or load model\n",
    "    model: model you want to save\n",
    "    task: Specify the type of task you want the function to perform. Can be\n",
    "          either 'save' or 'load'\n",
    "          \n",
    "    Returns: model, if task == 'load'\n",
    "    \"\"\"\n",
    "    if task == 'save':\n",
    "        pickled = name + '.pickle'\n",
    "        with open(pickled, 'wb') as f:\n",
    "            pickle.dump(model, f, pickle.HIGHEST_PROTOCOL)\n",
    "            \n",
    "    if task == 'load':\n",
    "        pickled = name + '.pickle'\n",
    "        with open(pickled, 'rb') as f:\n",
    "            loaded_model = pickle.load(f)\n",
    "        return loaded_model"
   ]
  },
  {
   "cell_type": "markdown",
   "metadata": {},
   "source": [
    "Saving and loading our best_rf model"
   ]
  },
  {
   "cell_type": "code",
   "execution_count": null,
   "metadata": {},
   "outputs": [],
   "source": [
    "pickling(name='best_rf', model=best_rf, task='save')"
   ]
  },
  {
   "cell_type": "code",
   "execution_count": null,
   "metadata": {},
   "outputs": [],
   "source": [
    "best_rf = pickling(name='best_rf', task='load')"
   ]
  },
  {
   "cell_type": "code",
   "execution_count": null,
   "metadata": {},
   "outputs": [],
   "source": [
    "best_rf.named_steps['rf']"
   ]
  },
  {
   "cell_type": "markdown",
   "metadata": {},
   "source": [
    "Best so far: \n",
    "- AUC 0.8, \n",
    "- recall 0.74\n",
    "\n",
    "=> train = 0.73, test = 0.729"
   ]
  },
  {
   "cell_type": "code",
   "execution_count": null,
   "metadata": {},
   "outputs": [],
   "source": [
    "# {'rf__oob_score': True, 'rf__n_estimators': 150, 'rf__min_samples_split': 3000, \n",
    "#  'rf__min_samples_leaf': 30, 'rf__max_features': None, 'rf__max_depth': None, \n",
    "#  'rf__criterion': 'gini', 'rf__bootstrap': True} "
   ]
  },
  {
   "cell_type": "markdown",
   "metadata": {},
   "source": [
    "Making a RandomForest designed to score for best recall since our other models do not perform as well when correctly identifying True Positives."
   ]
  },
  {
   "cell_type": "code",
   "execution_count": null,
   "metadata": {
    "scrolled": false
   },
   "outputs": [],
   "source": [
    "param_grid = {\n",
    "              'rf__oob_score': [True], \n",
    "              'rf__n_estimators': [150], \n",
    "              'rf__min_samples_split': [3000], \n",
    "              'rf__min_samples_leaf': [30], \n",
    "              'rf__max_features': [None], \n",
    "              'rf__max_depth': [None], \n",
    "              'rf__criterion': ['gini'], \n",
    "              'rf__bootstrap': [True]\n",
    "}\n",
    "\n",
    "\n",
    "recall_rf = model_search(multi_pipes['rf'], param_grid, X_train, y_train, \n",
    "                             X_test, y_test, label='rf', search='grid', \n",
    "                             preprocessed=1, scoring='recall')"
   ]
  },
  {
   "cell_type": "code",
   "execution_count": null,
   "metadata": {},
   "outputs": [],
   "source": [
    "pickling(name='recall_rf', model=recall_rf, task='save')"
   ]
  },
  {
   "cell_type": "markdown",
   "metadata": {},
   "source": [
    "### SVC Model"
   ]
  },
  {
   "cell_type": "code",
   "execution_count": null,
   "metadata": {},
   "outputs": [],
   "source": [
    "svm.SVC()"
   ]
  },
  {
   "cell_type": "code",
   "execution_count": null,
   "metadata": {
    "scrolled": true
   },
   "outputs": [],
   "source": [
    "with sklearn.config_context(display='diagram'):\n",
    "    display(multi_pipes['svm'].named_steps['svm'])"
   ]
  },
  {
   "cell_type": "code",
   "execution_count": null,
   "metadata": {},
   "outputs": [],
   "source": [
    "param_grid = {'svm__kernel': ['rbf'],\n",
    "             'svm__C': [0.1, 1, 10]}"
   ]
  },
  {
   "cell_type": "code",
   "execution_count": null,
   "metadata": {
    "scrolled": false
   },
   "outputs": [],
   "source": [
    "best_svc = model_search(multi_pipes['svm'], param_grid, X_train, y_train, X_test, \n",
    "                 y_test, search='grid', label='SVC', get_model=1, scoring='accuracy')"
   ]
  },
  {
   "cell_type": "code",
   "execution_count": null,
   "metadata": {},
   "outputs": [],
   "source": [
    "# Saving our best SVC model\n",
    "pickling(name='best_svc', model=best_svc, task='save')"
   ]
  },
  {
   "cell_type": "code",
   "execution_count": null,
   "metadata": {},
   "outputs": [],
   "source": [
    "# Loading our best SVC model\n",
    "best_svc = pickling(name='best_svc', task='load')"
   ]
  },
  {
   "cell_type": "markdown",
   "metadata": {},
   "source": [
    "### XGBoost"
   ]
  },
  {
   "cell_type": "code",
   "execution_count": null,
   "metadata": {},
   "outputs": [],
   "source": [
    "xgb.XGBClassifier()"
   ]
  },
  {
   "cell_type": "code",
   "execution_count": null,
   "metadata": {
    "scrolled": true
   },
   "outputs": [],
   "source": [
    "with sklearn.config_context(display='diagram'):\n",
    "    display(multi_pipes['xgb'].named_steps['xgb'])"
   ]
  },
  {
   "cell_type": "code",
   "execution_count": null,
   "metadata": {},
   "outputs": [],
   "source": [
    "param_grid = {'xgb__n_estimators': [100, 300], #100, \n",
    "             'xgb__max_depth': [None, 15, 20, 25, 30],  #10, 15, 20\n",
    "             'xgb__learning_rate': [0.1, 0.01, 0.001], #0.1, 0.001\n",
    "             'xgb__gamma': [0, 1, 3, 5], # 0, \n",
    "             'xgb__min_child_weight': [1, 3, 7, 10], \n",
    "             'xgb__subsample': [0.5]} # 1, 2, "
   ]
  },
  {
   "cell_type": "code",
   "execution_count": null,
   "metadata": {
    "scrolled": false
   },
   "outputs": [],
   "source": [
    "best_xgb = model_search(multi_pipes['xgb'], param_grid, X_train, y_train, X_test, \n",
    "                 y_test, search='grid', label='xgb', preprocessed=1, \n",
    "                 scoring='accuracy', get_model=1)                                                                  "
   ]
  },
  {
   "cell_type": "markdown",
   "metadata": {},
   "source": [
    "Saving and loading our model"
   ]
  },
  {
   "cell_type": "code",
   "execution_count": null,
   "metadata": {},
   "outputs": [],
   "source": [
    "pickling(name='best_xgb', model=best_xgb, task='save')"
   ]
  },
  {
   "cell_type": "code",
   "execution_count": null,
   "metadata": {},
   "outputs": [],
   "source": [
    "best_xgb = pickling(name='best_xgb', task='load')"
   ]
  },
  {
   "cell_type": "markdown",
   "metadata": {},
   "source": [
    "### Answer for Question 2:"
   ]
  },
  {
   "cell_type": "markdown",
   "metadata": {},
   "source": [
    "For our best XGBClassifier Model, the most significant factors that best predict if an observation is with or without a CVD are:\n",
    "\n",
    "- Systolic pressure\n",
    "- Age\n",
    "- Cholesterol\n",
    "- Sedentary Lifestyle (active_0)\n",
    "\n",
    "While we know that these are significant factors, we do not know if they are risk or protective factors. For example, we know that systolic pressure is extremely significant, but is lower or higher systolic pressure the risk factor? or both? \n",
    "\n",
    "**Recommendation**:\n",
    "\n",
    "If we want to figure out the greatest positive and negative feature importances of our model, we can use a library called Shap. Shap allows us to not only plot the most significant factors, but also the positive and/or negative correlation those features have with our target variable (in this case, CVD). With this information, we are able to interpret risk and protective factors for CVDs within our dataset."
   ]
  },
  {
   "cell_type": "markdown",
   "metadata": {},
   "source": [
    "## Stacking Classifier"
   ]
  },
  {
   "cell_type": "code",
   "execution_count": null,
   "metadata": {},
   "outputs": [],
   "source": [
    "from sklearn.ensemble import StackingClassifier"
   ]
  },
  {
   "cell_type": "code",
   "execution_count": null,
   "metadata": {},
   "outputs": [],
   "source": [
    "estimators = [\n",
    "    ('rf', recall_rf), \n",
    "    ('xgb', best_xgb),\n",
    "    ('svc', best_svc)\n",
    "]"
   ]
  },
  {
   "cell_type": "code",
   "execution_count": null,
   "metadata": {},
   "outputs": [],
   "source": [
    "stack_clf = StackingClassifier(estimators=estimators)"
   ]
  },
  {
   "cell_type": "code",
   "execution_count": null,
   "metadata": {},
   "outputs": [],
   "source": [
    "with sklearn.config_context(display='diagram'):\n",
    "    display(stack_clf.fit(X_train, y_train))"
   ]
  },
  {
   "cell_type": "code",
   "execution_count": null,
   "metadata": {
    "scrolled": false
   },
   "outputs": [],
   "source": [
    "stack_clf.score(X_test, y_test)"
   ]
  },
  {
   "cell_type": "code",
   "execution_count": null,
   "metadata": {},
   "outputs": [],
   "source": [
    "# categ_cols = multi_pipes[label].named_steps['preprocesser'].named_transformers_['cat'].\\\n",
    "#                             named_steps['encoder'].get_feature_names(cat_cols).tolist()"
   ]
  },
  {
   "cell_type": "code",
   "execution_count": null,
   "metadata": {},
   "outputs": [],
   "source": [
    "# stack_clf.named_estimators['rf'].named_steps['preprocesser'].named_transformers_['cat'].\\\n",
    "#                             named_steps['encoder'].get_feature_names(cat_cols).tolist()"
   ]
  },
  {
   "cell_type": "code",
   "execution_count": null,
   "metadata": {},
   "outputs": [],
   "source": [
    "evaluate_classification(stack_clf, X_test, y_test, X_train, y_train)"
   ]
  },
  {
   "cell_type": "markdown",
   "metadata": {},
   "source": [
    "## Using SHAP"
   ]
  },
  {
   "cell_type": "code",
   "execution_count": null,
   "metadata": {},
   "outputs": [],
   "source": [
    "num_cols = ['age', 'weight', 'systolic', 'diastolic', 'bmi', 'pulse_pressure', \n",
    "           'gluc', 'cholesterol']\n",
    "cat_cols = ['gender', 'smoke', 'alco', 'active', 'bp_cat', 'bmi_cat', \n",
    "            'age_by_decade']"
   ]
  },
  {
   "cell_type": "code",
   "execution_count": null,
   "metadata": {},
   "outputs": [],
   "source": [
    "def shap_summary(model, X_train, y_train, X_test, num_cols, cat_cols, scale=0):\n",
    "    \"\"\"\n",
    "    Definition:\n",
    "    using Shap, plots a summary plot of the model's feature importances to display\n",
    "    the level of importance, along with whether or not the feature has a \n",
    "    positive or negative correlation with the target (Or has both types).\n",
    "    \n",
    "    Args:\n",
    "    model: desired classification model to be used\n",
    "    X_train, y_train, X_test: Self-explanatory\n",
    "    num_cols: numerical columns in dataframe\n",
    "    cat_cols: categorical columns in dataframe (not including target)\n",
    "    scale: default=0. Whether or not the model requires the data to be scaled\n",
    "    \n",
    "    Plots:\n",
    "    A summary plot showing the model's most important features within the data \n",
    "    \"\"\"\n",
    "    shap.initjs()\n",
    "    \n",
    "    # For models that require their numerical features to be scaled\n",
    "    if scale:\n",
    "        preprocess = preprocess_1\n",
    "        X_train_tf = preprocess.fit_transform(X_train)\n",
    "        X_test_tf = preprocess.transform(X_test)\n",
    "\n",
    "    # For models that don't require numerical features to be scaled\n",
    "    else:\n",
    "        preprocess = preprocess_2\n",
    "        X_train_tf = preprocess.fit_transform(X_train)\n",
    "        X_test_tf = preprocess.transform(X_test)\n",
    "    \n",
    "    cat_feat_names = preprocess.named_transformers_['cat'].\\\n",
    "                 named_steps['encoder'].get_feature_names(cat_cols).tolist()\n",
    "    feature_cols = num_cols + cat_feat_names\n",
    "    X_train_df = pd.DataFrame(X_train_tf, columns=feature_cols)\n",
    "    \n",
    "    model.fit(X_train_df, y_train)\n",
    "    explainer = shap.TreeExplainer(model=model)\n",
    "    shap_values = explainer.shap_values(X_train_df, y_train)\n",
    "    shap.summary_plot(shap_values, X_train_df)"
   ]
  },
  {
   "cell_type": "markdown",
   "metadata": {},
   "source": [
    "#### Using Our Best XGBClassifier Model"
   ]
  },
  {
   "cell_type": "code",
   "execution_count": null,
   "metadata": {},
   "outputs": [],
   "source": [
    "best_xgb.named_steps['xgb'].get_params"
   ]
  },
  {
   "cell_type": "code",
   "execution_count": null,
   "metadata": {
    "scrolled": true
   },
   "outputs": [],
   "source": [
    "xgb_clf = xgb.XGBClassifier(gamma=1, min_child_weight=7, n_estimators=300)"
   ]
  },
  {
   "cell_type": "code",
   "execution_count": null,
   "metadata": {},
   "outputs": [],
   "source": [
    "shap_summary(xgb_clf, X_train, y_train, X_test, num_cols, cat_cols)"
   ]
  },
  {
   "cell_type": "markdown",
   "metadata": {},
   "source": [
    "# Interpreting"
   ]
  },
  {
   "cell_type": "markdown",
   "metadata": {},
   "source": [
    "### Answer for Question 3:"
   ]
  },
  {
   "cell_type": "markdown",
   "metadata": {},
   "source": [
    "According to our shap.summary_plot, we can see that Systolic pressure seems to be the most significant factor (both risk and protective) when it comes to determining if an observation has a CVD. \n",
    "\n",
    "**Top 5 Most Significant Factors:**\n",
    "- Systolic Pressure / Diastolic Pressure (BP)\n",
    "- Age\n",
    "- Cholesterol\n",
    "- BMI\n",
    "- Sedentary Lifestyle (Active_0)\n",
    "\n",
    "**Top 5 Risk Factors:**\n",
    "- High Systolic Pressure / High Diastolic Pressure (High BP)\n",
    "- Elderly person (high in age)\n",
    "- Higher Cholesterol Level\n",
    "- A high BMI\n",
    "- Sedentary lifestyle\n",
    "\n",
    "\n",
    "**Top 5 Protective Factors:**\n",
    "- Low Systolic Pressure / Low Diastolic Pressure (Lower BP)\n",
    "- Younger in age\n",
    "- Low cholesterol level\n",
    "- Lower BMI\n",
    "- Active Lifestyle"
   ]
  },
  {
   "cell_type": "markdown",
   "metadata": {},
   "source": [
    "### **Conclusion:**"
   ]
  },
  {
   "cell_type": "markdown",
   "metadata": {},
   "source": [
    "While we cannot turn back the clock on age, we can still control some of these important factors. Adopting and maintaining a physically active (any level of activity) lifestyle helps reduce the risk of getting a CVD. Being active can also help reduce a higher BMI and help shed pounds. High cholesterol levels can be controlled by eating healthier (along with correct portion sizes) and staying active; in more serious cases, it can be monitored and controlled through medication. Staying active and eating healthier will in turn also lower blood pressure. Gaining basic health knowledge on these fundamental protective factors could help drop Cardiovascular Disease from the number one spot on Top Causes of Death."
   ]
  },
  {
   "cell_type": "markdown",
   "metadata": {},
   "source": [
    "# Citations"
   ]
  },
  {
   "cell_type": "markdown",
   "metadata": {},
   "source": [
    "1. \"*About Adult BMI\"* Centers for Disease Control and Prevention. https://www.cdc.gov/healthyweight/assessing/bmi/adult_bmi/index.html. Accessed October 4th, 2020."
   ]
  },
  {
   "cell_type": "markdown",
   "metadata": {},
   "source": [
    "2. Yildiran, Tansel et al. *“Low pulse pressure as a predictor of death in patients with mild to advanced heart failure.”* Texas Heart Institute journal vol. 37,3 (2010): 284-90."
   ]
  },
  {
   "cell_type": "markdown",
   "metadata": {},
   "source": [
    "3. *“Understanding Blood Pressure Readings.”* American Heart Association, www.heart.org/en/health-topics/high-blood-pressure/understanding-blood-pressure-readings. Accessed October 4th, 2020."
   ]
  },
  {
   "cell_type": "markdown",
   "metadata": {},
   "source": [
    "4. Narloch, J A, and M E Brandstater. *“Influence of breathing technique on arterial blood pressure during heavy weight lifting.”* Archives of physical medicine and rehabilitation vol. 76,5 (1995): 457-62."
   ]
  },
  {
   "cell_type": "markdown",
   "metadata": {},
   "source": [
    "5. Dr G. M. C. Rosano, C. Vitale, G. Marazzi & M. Volterrani (2007) *Menopause and cardiovascular disease: the evidence*, Climacteric, 10:sup1, 19-24, DOI: 10.1080/13697130601114917"
   ]
  },
  {
   "cell_type": "markdown",
   "metadata": {},
   "source": [
    "6. *“Excess Growth Hormone Increases Risk of Heart Disease, Diabetes.”* NIH Record, nihrecord.nih.gov/2018/01/26/excess-growth-hormone-increases-risk-heart-disease-diabetes#:%7E:text=Excess%20Growth%20Hormone%20Increases%20Risk%20of%20Heart%20Disease%2C%20Diabetes,-By%20Eric%20Bock&text=Diseases%20of%20excess%20growth%20hormone,Rounds%20lecture%20in%20Lipsett%20Amphitheater. \n",
    "Accessed 11 Sept. 2020."
   ]
  },
  {
   "cell_type": "markdown",
   "metadata": {},
   "source": [
    "7. Burger, Albert G et al. *“Cardiovascular risk in patients with growth hormone deficiency: effects of growth hormone substitution.”* Endocrine practice : official journal of the American College of Endocrinology and the American Association of Clinical Endocrinologists vol. 12,6 (2006): 682-9."
   ]
  },
  {
   "cell_type": "markdown",
   "metadata": {},
   "source": [
    "\n"
   ]
  },
  {
   "cell_type": "code",
   "execution_count": null,
   "metadata": {},
   "outputs": [],
   "source": []
  }
 ],
 "metadata": {
  "kernelspec": {
   "display_name": "Python 3",
   "language": "python",
   "name": "python3"
  },
  "language_info": {
   "codemirror_mode": {
    "name": "ipython",
    "version": 3
   },
   "file_extension": ".py",
   "mimetype": "text/x-python",
   "name": "python",
   "nbconvert_exporter": "python",
   "pygments_lexer": "ipython3",
   "version": "3.8.5"
  },
  "toc": {
   "base_numbering": "",
   "nav_menu": {},
   "number_sections": false,
   "sideBar": true,
   "skip_h1_title": false,
   "title_cell": "Table of Contents",
   "title_sidebar": "Contents",
   "toc_cell": false,
   "toc_position": {
    "height": "calc(100% - 180px)",
    "left": "10px",
    "top": "150px",
    "width": "165px"
   },
   "toc_section_display": true,
   "toc_window_display": true
  }
 },
 "nbformat": 4,
 "nbformat_minor": 2
}
